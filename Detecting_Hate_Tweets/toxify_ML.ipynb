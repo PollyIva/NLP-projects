{
  "cells": [
    {
      "cell_type": "markdown",
      "metadata": {
        "id": "view-in-github",
        "colab_type": "text"
      },
      "source": [
        "<a href=\"https://colab.research.google.com/github/PollyIva/NLP-projects/blob/main/toxify_ML.ipynb\" target=\"_parent\"><img src=\"https://colab.research.google.com/assets/colab-badge.svg\" alt=\"Open In Colab\"/></a>"
      ]
    },
    {
      "cell_type": "markdown",
      "source": [
        "# XGBRegressor model"
      ],
      "metadata": {
        "id": "PnaBRUUzb9xH"
      }
    },
    {
      "cell_type": "markdown",
      "source": [
        "## Data preprocessing: \n",
        "\n",
        "A dataset of tweets labeled as hate speech or not hate speech was collected and preprocessed by cleaning the text data, removing stop words, and converting the text into numerical features using techniques such as TF-IDF."
      ],
      "metadata": {
        "id": "o0mKTZwaby1V"
      }
    },
    {
      "cell_type": "code",
      "execution_count": null,
      "metadata": {
        "id": "CrCxR6mLxSeU",
        "outputId": "a678fe70-31fe-4847-b181-11e0e8d4bc4f"
      },
      "outputs": [
        {
          "name": "stdout",
          "output_type": "stream",
          "text": [
            "The autotime extension is already loaded. To reload it, use:\n",
            "  %reload_ext autotime\n",
            "time: 453 ms (started: 2023-02-21 00:06:34 +03:00)\n"
          ]
        }
      ],
      "source": [
        "import spacy\n",
        "import pandas as pd\n",
        "from spacy.tokens import Span\n",
        "from sklearn.naive_bayes import MultinomialNB\n",
        "from sklearn import metrics\n",
        "from sklearn.linear_model import LogisticRegression\n",
        "from sklearn.model_selection import train_test_split\n",
        "import pandas as pd\n",
        "import numpy as np\n",
        "import matplotlib.pyplot as plt\n",
        "%matplotlib inline\n",
        "from spacy.matcher import Matcher\n",
        "from nltk.stem.snowball import SnowballStemmer\n",
        "import nltk\n",
        "from nltk.stem.porter import PorterStemmer\n",
        "from spacy import displacy\n",
        "import xgboost as xgb\n",
        "# !pip install ipython-autotime\n",
        "nlp = spacy.load(\"en_core_web_sm\")\n",
        "%load_ext autotime"
      ]
    },
    {
      "cell_type": "markdown",
      "metadata": {
        "id": "yHATIyPCxSek"
      },
      "source": [
        "- Examples:\n",
        "    https://www.kaggle.com/code/sbongo/for-beginners-tackling-toxic-using-keras\n",
        "    https://www.kaggle.com/code/CVxTz/keras-bidirectional-lstm-baseline-lb-0-069\n",
        "    https://www.kaggle.com/code/vsmolyakov/keras-cnn-with-fasttext-embeddings\n",
        "    https://machinelearningmastery.com/regression-tutorial-keras-deep-learning-library-python/"
      ]
    },
    {
      "cell_type": "code",
      "execution_count": null,
      "metadata": {
        "id": "IC4THcMRxSep",
        "outputId": "ee45632d-32c7-4133-9d39-1e481a8262e8"
      },
      "outputs": [
        {
          "data": {
            "text/html": [
              "<div>\n",
              "<style scoped>\n",
              "    .dataframe tbody tr th:only-of-type {\n",
              "        vertical-align: middle;\n",
              "    }\n",
              "\n",
              "    .dataframe tbody tr th {\n",
              "        vertical-align: top;\n",
              "    }\n",
              "\n",
              "    .dataframe thead th {\n",
              "        text-align: right;\n",
              "    }\n",
              "</style>\n",
              "<table border=\"1\" class=\"dataframe\">\n",
              "  <thead>\n",
              "    <tr style=\"text-align: right;\">\n",
              "      <th></th>\n",
              "      <th>id</th>\n",
              "      <th>comment_text</th>\n",
              "      <th>toxic</th>\n",
              "      <th>severe_toxic</th>\n",
              "      <th>obscene</th>\n",
              "      <th>threat</th>\n",
              "      <th>insult</th>\n",
              "      <th>identity_hate</th>\n",
              "    </tr>\n",
              "  </thead>\n",
              "  <tbody>\n",
              "    <tr>\n",
              "      <th>0</th>\n",
              "      <td>0000997932d777bf</td>\n",
              "      <td>Explanation\\nWhy the edits made under my usern...</td>\n",
              "      <td>0</td>\n",
              "      <td>0</td>\n",
              "      <td>0</td>\n",
              "      <td>0</td>\n",
              "      <td>0</td>\n",
              "      <td>0</td>\n",
              "    </tr>\n",
              "    <tr>\n",
              "      <th>1</th>\n",
              "      <td>000103f0d9cfb60f</td>\n",
              "      <td>D'aww! He matches this background colour I'm s...</td>\n",
              "      <td>0</td>\n",
              "      <td>0</td>\n",
              "      <td>0</td>\n",
              "      <td>0</td>\n",
              "      <td>0</td>\n",
              "      <td>0</td>\n",
              "    </tr>\n",
              "    <tr>\n",
              "      <th>2</th>\n",
              "      <td>000113f07ec002fd</td>\n",
              "      <td>Hey man, I'm really not trying to edit war. It...</td>\n",
              "      <td>0</td>\n",
              "      <td>0</td>\n",
              "      <td>0</td>\n",
              "      <td>0</td>\n",
              "      <td>0</td>\n",
              "      <td>0</td>\n",
              "    </tr>\n",
              "    <tr>\n",
              "      <th>3</th>\n",
              "      <td>0001b41b1c6bb37e</td>\n",
              "      <td>\"\\nMore\\nI can't make any real suggestions on ...</td>\n",
              "      <td>0</td>\n",
              "      <td>0</td>\n",
              "      <td>0</td>\n",
              "      <td>0</td>\n",
              "      <td>0</td>\n",
              "      <td>0</td>\n",
              "    </tr>\n",
              "    <tr>\n",
              "      <th>4</th>\n",
              "      <td>0001d958c54c6e35</td>\n",
              "      <td>You, sir, are my hero. Any chance you remember...</td>\n",
              "      <td>0</td>\n",
              "      <td>0</td>\n",
              "      <td>0</td>\n",
              "      <td>0</td>\n",
              "      <td>0</td>\n",
              "      <td>0</td>\n",
              "    </tr>\n",
              "    <tr>\n",
              "      <th>...</th>\n",
              "      <td>...</td>\n",
              "      <td>...</td>\n",
              "      <td>...</td>\n",
              "      <td>...</td>\n",
              "      <td>...</td>\n",
              "      <td>...</td>\n",
              "      <td>...</td>\n",
              "      <td>...</td>\n",
              "    </tr>\n",
              "    <tr>\n",
              "      <th>223544</th>\n",
              "      <td>fff8f64043129fa2</td>\n",
              "      <td>:Jerome, I see you never got around to this…! ...</td>\n",
              "      <td>0</td>\n",
              "      <td>0</td>\n",
              "      <td>0</td>\n",
              "      <td>0</td>\n",
              "      <td>0</td>\n",
              "      <td>0</td>\n",
              "    </tr>\n",
              "    <tr>\n",
              "      <th>223545</th>\n",
              "      <td>fff9d70fe0722906</td>\n",
              "      <td>==Lucky bastard== \\n http://wikimediafoundatio...</td>\n",
              "      <td>0</td>\n",
              "      <td>0</td>\n",
              "      <td>0</td>\n",
              "      <td>0</td>\n",
              "      <td>0</td>\n",
              "      <td>0</td>\n",
              "    </tr>\n",
              "    <tr>\n",
              "      <th>223546</th>\n",
              "      <td>fffa8a11c4378854</td>\n",
              "      <td>==shame on you all!!!== \\n\\n You want to speak...</td>\n",
              "      <td>0</td>\n",
              "      <td>0</td>\n",
              "      <td>0</td>\n",
              "      <td>0</td>\n",
              "      <td>0</td>\n",
              "      <td>0</td>\n",
              "    </tr>\n",
              "    <tr>\n",
              "      <th>223547</th>\n",
              "      <td>fffac2a094c8e0e2</td>\n",
              "      <td>MEL GIBSON IS A NAZI BITCH WHO MAKES SHITTY MO...</td>\n",
              "      <td>1</td>\n",
              "      <td>0</td>\n",
              "      <td>1</td>\n",
              "      <td>0</td>\n",
              "      <td>1</td>\n",
              "      <td>0</td>\n",
              "    </tr>\n",
              "    <tr>\n",
              "      <th>223548</th>\n",
              "      <td>fffb5451268fb5ba</td>\n",
              "      <td>\" \\n\\n == Unicorn lair discovery == \\n\\n Suppo...</td>\n",
              "      <td>0</td>\n",
              "      <td>0</td>\n",
              "      <td>0</td>\n",
              "      <td>0</td>\n",
              "      <td>0</td>\n",
              "      <td>0</td>\n",
              "    </tr>\n",
              "  </tbody>\n",
              "</table>\n",
              "<p>223549 rows × 8 columns</p>\n",
              "</div>"
            ],
            "text/plain": [
              "                      id                                       comment_text  \\\n",
              "0       0000997932d777bf  Explanation\\nWhy the edits made under my usern...   \n",
              "1       000103f0d9cfb60f  D'aww! He matches this background colour I'm s...   \n",
              "2       000113f07ec002fd  Hey man, I'm really not trying to edit war. It...   \n",
              "3       0001b41b1c6bb37e  \"\\nMore\\nI can't make any real suggestions on ...   \n",
              "4       0001d958c54c6e35  You, sir, are my hero. Any chance you remember...   \n",
              "...                  ...                                                ...   \n",
              "223544  fff8f64043129fa2  :Jerome, I see you never got around to this…! ...   \n",
              "223545  fff9d70fe0722906  ==Lucky bastard== \\n http://wikimediafoundatio...   \n",
              "223546  fffa8a11c4378854  ==shame on you all!!!== \\n\\n You want to speak...   \n",
              "223547  fffac2a094c8e0e2  MEL GIBSON IS A NAZI BITCH WHO MAKES SHITTY MO...   \n",
              "223548  fffb5451268fb5ba  \" \\n\\n == Unicorn lair discovery == \\n\\n Suppo...   \n",
              "\n",
              "        toxic  severe_toxic  obscene  threat  insult  identity_hate  \n",
              "0           0             0        0       0       0              0  \n",
              "1           0             0        0       0       0              0  \n",
              "2           0             0        0       0       0              0  \n",
              "3           0             0        0       0       0              0  \n",
              "4           0             0        0       0       0              0  \n",
              "...       ...           ...      ...     ...     ...            ...  \n",
              "223544      0             0        0       0       0              0  \n",
              "223545      0             0        0       0       0              0  \n",
              "223546      0             0        0       0       0              0  \n",
              "223547      1             0        1       0       1              0  \n",
              "223548      0             0        0       0       0              0  \n",
              "\n",
              "[223549 rows x 8 columns]"
            ]
          },
          "execution_count": 5,
          "metadata": {},
          "output_type": "execute_result"
        },
        {
          "name": "stdout",
          "output_type": "stream",
          "text": [
            "time: 1.17 s (started: 2023-02-21 00:06:35 +03:00)\n"
          ]
        }
      ],
      "source": [
        "df = pd.read_csv('./data/jigsaw-toxic-comment-train.csv')\n",
        "df"
      ]
    },
    {
      "cell_type": "code",
      "execution_count": null,
      "metadata": {
        "id": "ATIOql83xSer",
        "outputId": "bb8d0b43-f16e-4da0-83b5-9a52d46d2dae"
      },
      "outputs": [
        {
          "data": {
            "text/plain": [
              "id               0\n",
              "comment_text     0\n",
              "toxic            0\n",
              "severe_toxic     0\n",
              "obscene          0\n",
              "threat           0\n",
              "insult           0\n",
              "identity_hate    0\n",
              "dtype: int64"
            ]
          },
          "execution_count": 6,
          "metadata": {},
          "output_type": "execute_result"
        },
        {
          "name": "stdout",
          "output_type": "stream",
          "text": [
            "time: 54.9 ms (started: 2023-02-21 00:06:38 +03:00)\n"
          ]
        }
      ],
      "source": [
        "df.isna().sum()"
      ]
    },
    {
      "cell_type": "code",
      "execution_count": null,
      "metadata": {
        "id": "mqhHpcPKxSet",
        "outputId": "7b6d76e5-02de-4987-86ce-666258426f3b"
      },
      "outputs": [
        {
          "name": "stdout",
          "output_type": "stream",
          "text": [
            "time: 15 ms (started: 2023-02-21 00:06:40 +03:00)\n"
          ]
        }
      ],
      "source": [
        "columns_scores = ['toxic', 'severe_toxic', 'obscene', 'threat', 'insult', 'identity_hate']\n",
        "df['score'] = df[columns_scores].sum(axis=1)"
      ]
    },
    {
      "cell_type": "code",
      "execution_count": null,
      "metadata": {
        "id": "s79sI2JpxSev",
        "outputId": "0cf9aa73-5618-4fea-8e40-3415659baaf9"
      },
      "outputs": [
        {
          "name": "stdout",
          "output_type": "stream",
          "text": [
            "time: 19 ms (started: 2023-02-21 00:06:42 +03:00)\n"
          ]
        }
      ],
      "source": [
        "df.drop(columns_scores, axis=1, inplace=True)"
      ]
    },
    {
      "cell_type": "code",
      "execution_count": null,
      "metadata": {
        "id": "AQtbtcRTxSew",
        "outputId": "2f303bff-646a-4293-d2ac-f2cff363f3bb"
      },
      "outputs": [
        {
          "data": {
            "text/plain": [
              "0    201081\n",
              "1      8202\n",
              "3      6290\n",
              "2      5010\n",
              "4      2371\n",
              "5       550\n",
              "6        45\n",
              "Name: score, dtype: int64"
            ]
          },
          "execution_count": 9,
          "metadata": {},
          "output_type": "execute_result"
        },
        {
          "name": "stdout",
          "output_type": "stream",
          "text": [
            "time: 9.74 ms (started: 2023-02-21 00:06:43 +03:00)\n"
          ]
        }
      ],
      "source": [
        "df.score.value_counts()"
      ]
    },
    {
      "cell_type": "code",
      "execution_count": null,
      "metadata": {
        "id": "rDNBhpt8xSez",
        "outputId": "a1d69776-9bc7-4195-926d-7dc48ac13850"
      },
      "outputs": [
        {
          "name": "stdout",
          "output_type": "stream",
          "text": [
            "time: 12.3 ms (started: 2023-02-21 00:06:45 +03:00)\n"
          ]
        }
      ],
      "source": [
        "from sklearn.preprocessing import MinMaxScaler\n",
        "scaler = MinMaxScaler(feature_range=(0, 1))\n",
        "\n",
        "# Fit and transform the data\n",
        "scaled_data = scaler.fit_transform(df['score'].values.reshape(-1, 1))"
      ]
    },
    {
      "cell_type": "code",
      "execution_count": null,
      "metadata": {
        "id": "0QuodqnOxSe2",
        "outputId": "53174fc7-080d-48bf-c539-0ead9aa6e7b7"
      },
      "outputs": [
        {
          "name": "stdout",
          "output_type": "stream",
          "text": [
            "time: 29.6 ms (started: 2023-02-21 00:06:46 +03:00)\n"
          ]
        }
      ],
      "source": [
        "df['score'] = scaled_data\n",
        "df = df.drop('id', axis = 1)"
      ]
    },
    {
      "cell_type": "code",
      "execution_count": null,
      "metadata": {
        "id": "MEKVduc_xSe5",
        "outputId": "92c46a8e-96b2-4adb-ccfd-2649be3154bc"
      },
      "outputs": [
        {
          "name": "stdout",
          "output_type": "stream",
          "text": [
            "time: 4.36 ms (started: 2023-02-21 00:06:47 +03:00)\n"
          ]
        }
      ],
      "source": [
        "import re\n",
        "import nltk\n",
        "from nltk.corpus import stopwords\n",
        "stopwords = stopwords.words(\"english\")\n",
        "from nltk.stem import LancasterStemmer"
      ]
    },
    {
      "cell_type": "code",
      "execution_count": null,
      "metadata": {
        "id": "eclUJ-Z5xSe8",
        "outputId": "1d329115-ae8f-414e-8cd9-27621cdb0ccd"
      },
      "outputs": [
        {
          "name": "stdout",
          "output_type": "stream",
          "text": [
            "time: 556 µs (started: 2023-02-21 00:06:49 +03:00)\n"
          ]
        }
      ],
      "source": [
        "lancaster=LancasterStemmer()\n",
        "def normalization_text(x):\n",
        "    sentences = nltk.sent_tokenize(x)\n",
        "    words = [nltk.word_tokenize(sentence) for sentence in sentences]\n",
        "    bag_of_text = []\n",
        "    for sent in words:\n",
        "        sentense = [lancaster.stem(word.lower()).strip() for word in sent if not word.lower() in stopwords and word.isalpha()]\n",
        "        if len(sentense) > 0:\n",
        "            bag_of_text.extend(sentense)\n",
        "\n",
        "    bag_of_text = \" \".join(bag_of_text)\n",
        "    return bag_of_text"
      ]
    },
    {
      "cell_type": "code",
      "execution_count": null,
      "metadata": {
        "id": "APkUjAdUxSe_",
        "outputId": "102dc2f7-020a-4fcd-8592-7a37833d2306"
      },
      "outputs": [
        {
          "name": "stdout",
          "output_type": "stream",
          "text": [
            "time: 3min 1s (started: 2023-02-21 00:06:51 +03:00)\n"
          ]
        }
      ],
      "source": [
        "df['comment_text'] = df['comment_text'].apply(lambda x: normalization_text(x))"
      ]
    },
    {
      "cell_type": "code",
      "execution_count": null,
      "metadata": {
        "id": "bO7q_DL5xSfB",
        "outputId": "818f4fe2-25d2-40a4-fd45-32322270ebfb"
      },
      "outputs": [
        {
          "name": "stdout",
          "output_type": "stream",
          "text": [
            "time: 28.6 ms (started: 2023-02-19 18:45:41 +03:00)\n"
          ]
        }
      ],
      "source": [
        "X_train, X_test, y_train, y_test = train_test_split(df['comment_text'], df['score'], test_size=0.33, random_state=42)"
      ]
    },
    {
      "cell_type": "code",
      "execution_count": null,
      "metadata": {
        "id": "_Vl8K15oxSfD",
        "outputId": "f6397f57-d9ff-49fd-dfec-592fbfaa9f21"
      },
      "outputs": [
        {
          "data": {
            "text/plain": [
              "0.000000    134688\n",
              "0.166667      5511\n",
              "0.500000      4184\n",
              "0.333333      3360\n",
              "0.666667      1606\n",
              "0.833333       395\n",
              "1.000000        33\n",
              "Name: score, dtype: int64"
            ]
          },
          "execution_count": 13,
          "metadata": {},
          "output_type": "execute_result"
        },
        {
          "name": "stdout",
          "output_type": "stream",
          "text": [
            "time: 14.1 ms (started: 2023-02-19 18:45:41 +03:00)\n"
          ]
        }
      ],
      "source": [
        "y_train.value_counts()"
      ]
    },
    {
      "cell_type": "code",
      "execution_count": null,
      "metadata": {
        "id": "GAzGPabbxSfE",
        "outputId": "e9e573bd-1608-4239-8ef2-0d87c3445c36"
      },
      "outputs": [
        {
          "data": {
            "text/plain": [
              "'michael jackson al littl legend going round obsc websit could ment dea michael jackson mainstream med pick fail wp gng mom talk'"
            ]
          },
          "execution_count": 14,
          "metadata": {},
          "output_type": "execute_result"
        },
        {
          "name": "stdout",
          "output_type": "stream",
          "text": [
            "time: 1.6 ms (started: 2023-02-19 18:45:41 +03:00)\n"
          ]
        }
      ],
      "source": [
        "X_train.iloc[0] # preprocessed text"
      ]
    },
    {
      "cell_type": "code",
      "execution_count": null,
      "metadata": {
        "id": "HXNtkwmSxSfG",
        "outputId": "8612eb70-70aa-4675-ba78-c7ff1e84d144"
      },
      "outputs": [
        {
          "data": {
            "text/plain": [
              "(149777,)"
            ]
          },
          "execution_count": 15,
          "metadata": {},
          "output_type": "execute_result"
        },
        {
          "name": "stdout",
          "output_type": "stream",
          "text": [
            "time: 1.13 ms (started: 2023-02-19 18:45:41 +03:00)\n"
          ]
        }
      ],
      "source": [
        "X_train.shape"
      ]
    },
    {
      "cell_type": "code",
      "execution_count": null,
      "metadata": {
        "id": "vJvZmpuAxSfH",
        "outputId": "5372734c-c48f-4801-f34e-38840d768d6b"
      },
      "outputs": [
        {
          "name": "stdout",
          "output_type": "stream",
          "text": [
            "time: 4.03 s (started: 2023-02-19 18:45:41 +03:00)\n"
          ]
        }
      ],
      "source": [
        "from sklearn.feature_extraction.text import TfidfVectorizer\n",
        "vectorizer = TfidfVectorizer()\n",
        "\n",
        "X_train_tfidf = vectorizer.fit_transform(X_train)\n",
        "X_test_tfidf = vectorizer.transform(X_test)"
      ]
    },
    {
      "cell_type": "code",
      "execution_count": null,
      "metadata": {
        "id": "JxNpXzZuxSfI",
        "outputId": "8594afbd-2ff9-4813-9932-6e8a43213b20"
      },
      "outputs": [
        {
          "data": {
            "text/plain": [
              "<1x8 sparse matrix of type '<class 'numpy.float64'>'\n",
              "\twith 8 stored elements in Compressed Sparse Row format>"
            ]
          },
          "execution_count": 17,
          "metadata": {},
          "output_type": "execute_result"
        },
        {
          "name": "stdout",
          "output_type": "stream",
          "text": [
            "time: 8.93 ms (started: 2023-02-19 18:45:45 +03:00)\n"
          ]
        }
      ],
      "source": [
        "# Example TfidfVectorizer\n",
        "comment_test = ['We are so handsome! Please see my dream']\n",
        "test = vectorizer.fit_transform(comment_test)\n",
        "test_1 = vectorizer.transform(comment_test)\n",
        "test"
      ]
    },
    {
      "cell_type": "code",
      "execution_count": null,
      "metadata": {
        "id": "bMxIA413xSfK",
        "outputId": "7cf2dfd3-59de-4659-f7c7-fb19c1506722"
      },
      "outputs": [
        {
          "name": "stdout",
          "output_type": "stream",
          "text": [
            "  (0, 91812)\t0.09073380981713736\n",
            "  (0, 60369)\t0.18282350373034326\n",
            "  (0, 36077)\t0.2774653739402911\n",
            "  (0, 104835)\t0.1286804536788719\n",
            "  (0, 30392)\t0.16956599513330242\n",
            "  (0, 71219)\t0.19799093818636188\n",
            "  (0, 57829)\t0.15807610896092314\n",
            "  (0, 55715)\t0.21399209913048195\n",
            "  (0, 21851)\t0.18454509779973335\n",
            "  (0, 58343)\t0.13126449402159612\n",
            "  (0, 19513)\t0.11644801974284606\n",
            "  (0, 102525)\t0.1553986672093016\n",
            "  (0, 66182)\t0.22134983570765077\n",
            "  (0, 79854)\t0.21646484810642916\n",
            "  (0, 36273)\t0.13294994193029505\n",
            "  (0, 52677)\t0.23467252616439743\n",
            "  (0, 53791)\t0.14388884033233074\n",
            "  (0, 2151)\t0.17649103037428707\n",
            "  (0, 45814)\t0.4899968660000288\n",
            "  (0, 58903)\t0.4201401147737803\n",
            "time: 2.13 ms (started: 2023-02-19 18:45:45 +03:00)\n"
          ]
        }
      ],
      "source": [
        "print(X_train_tfidf[0]) # TIIDF process text"
      ]
    },
    {
      "cell_type": "markdown",
      "source": [
        "## Model training: \n",
        "The XGBRegressor model was trained using the preprocessed data. Since XGBRegressor is a gradient boosting algorithm, it was trained using multiple weak learners to minimize the mean squared error (MSE) between the predicted hate speech probability and the actual hate speech probability."
      ],
      "metadata": {
        "id": "UfNkAzcEcXo1"
      }
    },
    {
      "cell_type": "code",
      "execution_count": null,
      "metadata": {
        "id": "PAPNVtQ6xSfL",
        "outputId": "acb1f458-1682-4429-95c8-50ac0a5ee563"
      },
      "outputs": [
        {
          "name": "stdout",
          "output_type": "stream",
          "text": [
            "time: 383 µs (started: 2023-02-19 18:45:46 +03:00)\n"
          ]
        }
      ],
      "source": [
        "xgbr = xgb.XGBRegressor()"
      ]
    },
    {
      "cell_type": "code",
      "execution_count": null,
      "metadata": {
        "id": "e1SfTskaxSfM",
        "outputId": "9ab857ec-16eb-416a-e2a6-aaab485d0cf5"
      },
      "outputs": [
        {
          "data": {
            "text/html": [
              "<style>#sk-container-id-1 {color: black;background-color: white;}#sk-container-id-1 pre{padding: 0;}#sk-container-id-1 div.sk-toggleable {background-color: white;}#sk-container-id-1 label.sk-toggleable__label {cursor: pointer;display: block;width: 100%;margin-bottom: 0;padding: 0.3em;box-sizing: border-box;text-align: center;}#sk-container-id-1 label.sk-toggleable__label-arrow:before {content: \"▸\";float: left;margin-right: 0.25em;color: #696969;}#sk-container-id-1 label.sk-toggleable__label-arrow:hover:before {color: black;}#sk-container-id-1 div.sk-estimator:hover label.sk-toggleable__label-arrow:before {color: black;}#sk-container-id-1 div.sk-toggleable__content {max-height: 0;max-width: 0;overflow: hidden;text-align: left;background-color: #f0f8ff;}#sk-container-id-1 div.sk-toggleable__content pre {margin: 0.2em;color: black;border-radius: 0.25em;background-color: #f0f8ff;}#sk-container-id-1 input.sk-toggleable__control:checked~div.sk-toggleable__content {max-height: 200px;max-width: 100%;overflow: auto;}#sk-container-id-1 input.sk-toggleable__control:checked~label.sk-toggleable__label-arrow:before {content: \"▾\";}#sk-container-id-1 div.sk-estimator input.sk-toggleable__control:checked~label.sk-toggleable__label {background-color: #d4ebff;}#sk-container-id-1 div.sk-label input.sk-toggleable__control:checked~label.sk-toggleable__label {background-color: #d4ebff;}#sk-container-id-1 input.sk-hidden--visually {border: 0;clip: rect(1px 1px 1px 1px);clip: rect(1px, 1px, 1px, 1px);height: 1px;margin: -1px;overflow: hidden;padding: 0;position: absolute;width: 1px;}#sk-container-id-1 div.sk-estimator {font-family: monospace;background-color: #f0f8ff;border: 1px dotted black;border-radius: 0.25em;box-sizing: border-box;margin-bottom: 0.5em;}#sk-container-id-1 div.sk-estimator:hover {background-color: #d4ebff;}#sk-container-id-1 div.sk-parallel-item::after {content: \"\";width: 100%;border-bottom: 1px solid gray;flex-grow: 1;}#sk-container-id-1 div.sk-label:hover label.sk-toggleable__label {background-color: #d4ebff;}#sk-container-id-1 div.sk-serial::before {content: \"\";position: absolute;border-left: 1px solid gray;box-sizing: border-box;top: 0;bottom: 0;left: 50%;z-index: 0;}#sk-container-id-1 div.sk-serial {display: flex;flex-direction: column;align-items: center;background-color: white;padding-right: 0.2em;padding-left: 0.2em;position: relative;}#sk-container-id-1 div.sk-item {position: relative;z-index: 1;}#sk-container-id-1 div.sk-parallel {display: flex;align-items: stretch;justify-content: center;background-color: white;position: relative;}#sk-container-id-1 div.sk-item::before, #sk-container-id-1 div.sk-parallel-item::before {content: \"\";position: absolute;border-left: 1px solid gray;box-sizing: border-box;top: 0;bottom: 0;left: 50%;z-index: -1;}#sk-container-id-1 div.sk-parallel-item {display: flex;flex-direction: column;z-index: 1;position: relative;background-color: white;}#sk-container-id-1 div.sk-parallel-item:first-child::after {align-self: flex-end;width: 50%;}#sk-container-id-1 div.sk-parallel-item:last-child::after {align-self: flex-start;width: 50%;}#sk-container-id-1 div.sk-parallel-item:only-child::after {width: 0;}#sk-container-id-1 div.sk-dashed-wrapped {border: 1px dashed gray;margin: 0 0.4em 0.5em 0.4em;box-sizing: border-box;padding-bottom: 0.4em;background-color: white;}#sk-container-id-1 div.sk-label label {font-family: monospace;font-weight: bold;display: inline-block;line-height: 1.2em;}#sk-container-id-1 div.sk-label-container {text-align: center;}#sk-container-id-1 div.sk-container {/* jupyter's `normalize.less` sets `[hidden] { display: none; }` but bootstrap.min.css set `[hidden] { display: none !important; }` so we also need the `!important` here to be able to override the default hidden behavior on the sphinx rendered scikit-learn.org. See: https://github.com/scikit-learn/scikit-learn/issues/21755 */display: inline-block !important;position: relative;}#sk-container-id-1 div.sk-text-repr-fallback {display: none;}</style><div id=\"sk-container-id-1\" class=\"sk-top-container\"><div class=\"sk-text-repr-fallback\"><pre>XGBRegressor(base_score=0.5, booster=&#x27;gbtree&#x27;, callbacks=None,\n",
              "             colsample_bylevel=1, colsample_bynode=1, colsample_bytree=1,\n",
              "             early_stopping_rounds=None, enable_categorical=False,\n",
              "             eval_metric=None, feature_types=None, gamma=0, gpu_id=-1,\n",
              "             grow_policy=&#x27;depthwise&#x27;, importance_type=None,\n",
              "             interaction_constraints=&#x27;&#x27;, learning_rate=0.300000012, max_bin=256,\n",
              "             max_cat_threshold=64, max_cat_to_onehot=4, max_delta_step=0,\n",
              "             max_depth=6, max_leaves=0, min_child_weight=1, missing=nan,\n",
              "             monotone_constraints=&#x27;()&#x27;, n_estimators=100, n_jobs=0,\n",
              "             num_parallel_tree=1, predictor=&#x27;auto&#x27;, random_state=0, ...)</pre><b>In a Jupyter environment, please rerun this cell to show the HTML representation or trust the notebook. <br />On GitHub, the HTML representation is unable to render, please try loading this page with nbviewer.org.</b></div><div class=\"sk-container\" hidden><div class=\"sk-item\"><div class=\"sk-estimator sk-toggleable\"><input class=\"sk-toggleable__control sk-hidden--visually\" id=\"sk-estimator-id-1\" type=\"checkbox\" checked><label for=\"sk-estimator-id-1\" class=\"sk-toggleable__label sk-toggleable__label-arrow\">XGBRegressor</label><div class=\"sk-toggleable__content\"><pre>XGBRegressor(base_score=0.5, booster=&#x27;gbtree&#x27;, callbacks=None,\n",
              "             colsample_bylevel=1, colsample_bynode=1, colsample_bytree=1,\n",
              "             early_stopping_rounds=None, enable_categorical=False,\n",
              "             eval_metric=None, feature_types=None, gamma=0, gpu_id=-1,\n",
              "             grow_policy=&#x27;depthwise&#x27;, importance_type=None,\n",
              "             interaction_constraints=&#x27;&#x27;, learning_rate=0.300000012, max_bin=256,\n",
              "             max_cat_threshold=64, max_cat_to_onehot=4, max_delta_step=0,\n",
              "             max_depth=6, max_leaves=0, min_child_weight=1, missing=nan,\n",
              "             monotone_constraints=&#x27;()&#x27;, n_estimators=100, n_jobs=0,\n",
              "             num_parallel_tree=1, predictor=&#x27;auto&#x27;, random_state=0, ...)</pre></div></div></div></div></div>"
            ],
            "text/plain": [
              "XGBRegressor(base_score=0.5, booster='gbtree', callbacks=None,\n",
              "             colsample_bylevel=1, colsample_bynode=1, colsample_bytree=1,\n",
              "             early_stopping_rounds=None, enable_categorical=False,\n",
              "             eval_metric=None, feature_types=None, gamma=0, gpu_id=-1,\n",
              "             grow_policy='depthwise', importance_type=None,\n",
              "             interaction_constraints='', learning_rate=0.300000012, max_bin=256,\n",
              "             max_cat_threshold=64, max_cat_to_onehot=4, max_delta_step=0,\n",
              "             max_depth=6, max_leaves=0, min_child_weight=1, missing=nan,\n",
              "             monotone_constraints='()', n_estimators=100, n_jobs=0,\n",
              "             num_parallel_tree=1, predictor='auto', random_state=0, ...)"
            ]
          },
          "execution_count": 20,
          "metadata": {},
          "output_type": "execute_result"
        },
        {
          "name": "stdout",
          "output_type": "stream",
          "text": [
            "time: 23 s (started: 2023-02-19 18:45:46 +03:00)\n"
          ]
        }
      ],
      "source": [
        "xgbr.fit(X_train_tfidf, y_train)"
      ]
    },
    {
      "cell_type": "markdown",
      "metadata": {
        "collapsed": false,
        "id": "amaJ0XUZxSfN"
      },
      "source": [
        "## Model evaluation\n",
        "\n",
        "1.   Mean square error\n",
        "2.   Coefficient of determination of the prediction ----> R^2\n",
        "3.   Mean absolute error\n",
        "\n",
        "The model was also tested on a holdout dataset to assess its generalization performance."
      ]
    },
    {
      "cell_type": "code",
      "execution_count": null,
      "metadata": {
        "id": "6jKT5lL3xSfO",
        "outputId": "b96a178d-56ff-4e59-e656-f1c1ecfa8e9c"
      },
      "outputs": [
        {
          "name": "stdout",
          "output_type": "stream",
          "text": [
            "Training score:  0.6666244600818589\n",
            "time: 84.6 ms (started: 2023-02-19 18:46:09 +03:00)\n"
          ]
        }
      ],
      "source": [
        "score = xgbr.score(X_test_tfidf, y_test) # Return the coefficient of determination of the prediction.R^2\n",
        "print(\"Training score: \", score)"
      ]
    },
    {
      "cell_type": "code",
      "execution_count": null,
      "metadata": {
        "id": "vkocTbpPxSfQ",
        "outputId": "6e453245-3320-4810-d708-548030128fca"
      },
      "outputs": [
        {
          "data": {
            "text/plain": [
              "(73772, 119437)"
            ]
          },
          "execution_count": 22,
          "metadata": {},
          "output_type": "execute_result"
        },
        {
          "name": "stdout",
          "output_type": "stream",
          "text": [
            "time: 2.57 ms (started: 2023-02-19 18:46:09 +03:00)\n"
          ]
        }
      ],
      "source": [
        "X_test_tfidf.shape"
      ]
    },
    {
      "cell_type": "code",
      "execution_count": null,
      "metadata": {
        "id": "_XOSCjzVxSfQ",
        "outputId": "93e275e3-985b-4634-e8af-17f58901f8f0"
      },
      "outputs": [
        {
          "name": "stdout",
          "output_type": "stream",
          "text": [
            "time: 45.5 ms (started: 2023-02-19 18:46:09 +03:00)\n"
          ]
        }
      ],
      "source": [
        "ypred = xgbr.predict(X_test_tfidf)"
      ]
    },
    {
      "cell_type": "code",
      "execution_count": null,
      "metadata": {
        "id": "JCC7ZQ7rxSfR",
        "outputId": "3488360b-1791-42da-db22-0a9a84904644"
      },
      "outputs": [
        {
          "name": "stdout",
          "output_type": "stream",
          "text": [
            "time: 26.4 ms (started: 2023-02-19 18:46:09 +03:00)\n"
          ]
        }
      ],
      "source": [
        "df = pd.DataFrame(ypred, index=X_test)"
      ]
    },
    {
      "cell_type": "code",
      "execution_count": null,
      "metadata": {
        "id": "r1OqKf7TxSfS",
        "outputId": "6e8fbce9-962e-4618-f063-f399c17b86b4"
      },
      "outputs": [
        {
          "data": {
            "text/html": [
              "<div>\n",
              "<style scoped>\n",
              "    .dataframe tbody tr th:only-of-type {\n",
              "        vertical-align: middle;\n",
              "    }\n",
              "\n",
              "    .dataframe tbody tr th {\n",
              "        vertical-align: top;\n",
              "    }\n",
              "\n",
              "    .dataframe thead th {\n",
              "        text-align: right;\n",
              "    }\n",
              "</style>\n",
              "<table border=\"1\" class=\"dataframe\">\n",
              "  <thead>\n",
              "    <tr style=\"text-align: right;\">\n",
              "      <th></th>\n",
              "      <th>0</th>\n",
              "    </tr>\n",
              "    <tr>\n",
              "      <th>comment_text</th>\n",
              "      <th></th>\n",
              "    </tr>\n",
              "  </thead>\n",
              "  <tbody>\n",
              "    <tr>\n",
              "      <th>heck talk ask good chum quest unclear unclear poss answ</th>\n",
              "      <td>0.007862</td>\n",
              "    </tr>\n",
              "    <tr>\n",
              "      <th>wel hat word mean ment wp vand</th>\n",
              "      <td>0.070373</td>\n",
              "    </tr>\n",
              "    <tr>\n",
              "      <th>sourc plac nam scotland</th>\n",
              "      <td>0.007371</td>\n",
              "    </tr>\n",
              "    <tr>\n",
              "      <th>pleas vand pag edit blowout continu block edit</th>\n",
              "      <td>0.007683</td>\n",
              "    </tr>\n",
              "    <tr>\n",
              "      <th>virt incomprehens although everyon know therapeut hygy pract rom publ bath slow lost ground soc gath il reput rom mor went declin lat year</th>\n",
              "      <td>0.010751</td>\n",
              "    </tr>\n",
              "    <tr>\n",
              "      <th>...</th>\n",
              "      <td>...</td>\n",
              "    </tr>\n",
              "    <tr>\n",
              "      <th>put artic ahv put artic whit peopl also black caucas as peopl delet think wrong veyr rac wikiped also caus many argu say delet keep put delet tag pag</th>\n",
              "      <td>0.005947</td>\n",
              "    </tr>\n",
              "    <tr>\n",
              "      <th></th>\n",
              "      <td>0.010751</td>\n",
              "    </tr>\n",
              "    <tr>\n",
              "      <th>اميري يك پاكت سيگار وينستون دارم كه تمام رنگها را دارد</th>\n",
              "      <td>0.010751</td>\n",
              "    </tr>\n",
              "    <tr>\n",
              "      <th>reply vand wakkeenah vand cal admin air dat min problem fact detail surround reev suicid writ wel enough everybody els report fact reev fight moor next day also revert pur vand far spel goe ves project whoev wel keep rep tim spel er might occ spel count cont vand cal us admin cal wikiped obvy wahkeenah person interest proof internet reev dea explain detail poss peopl involv tak everyth idiot administratot revers thu mak look stupid ign real hist fact</th>\n",
              "      <td>0.066939</td>\n",
              "    </tr>\n",
              "    <tr>\n",
              "      <th>hey mf someon mess maur west dian jenkin pict pag know fix real simpl know last edit pag mess pict mer try fix could tak look fix hop ask much thank talk</th>\n",
              "      <td>0.000090</td>\n",
              "    </tr>\n",
              "  </tbody>\n",
              "</table>\n",
              "<p>67081 rows × 1 columns</p>\n",
              "</div>"
            ],
            "text/plain": [
              "                                                           0\n",
              "comment_text                                                \n",
              "heck talk ask good chum quest unclear unclear p...  0.007862\n",
              "wel hat word mean ment wp vand                      0.070373\n",
              "sourc plac nam scotland                             0.007371\n",
              "pleas vand pag edit blowout continu block edit      0.007683\n",
              "virt incomprehens although everyon know therape...  0.010751\n",
              "...                                                      ...\n",
              "put artic ahv put artic whit peopl also black c...  0.005947\n",
              "                                                    0.010751\n",
              "اميري يك پاكت سيگار وينستون دارم كه تمام رنگها ...  0.010751\n",
              "reply vand wakkeenah vand cal admin air dat min...  0.066939\n",
              "hey mf someon mess maur west dian jenkin pict p...  0.000090\n",
              "\n",
              "[67081 rows x 1 columns]"
            ]
          },
          "execution_count": 25,
          "metadata": {},
          "output_type": "execute_result"
        },
        {
          "name": "stdout",
          "output_type": "stream",
          "text": [
            "time: 15.4 ms (started: 2023-02-19 18:46:09 +03:00)\n"
          ]
        }
      ],
      "source": [
        "df[df[0] < 0.1]"
      ]
    },
    {
      "cell_type": "code",
      "execution_count": null,
      "metadata": {
        "id": "Z21jhHZdxSfT",
        "outputId": "29e15af7-5914-4e62-f351-3bf49a7a91d5"
      },
      "outputs": [
        {
          "name": "stdout",
          "output_type": "stream",
          "text": [
            "mse ---->  0.005175197257200231\n",
            "mse_root ---->  0.0719388438689435\n",
            "time: 3.5 ms (started: 2023-02-19 18:46:09 +03:00)\n"
          ]
        }
      ],
      "source": [
        "from sklearn.metrics import mean_squared_error\n",
        "mse = mean_squared_error(y_test, ypred)\n",
        "print('mse ----> ', mse)\n",
        "# root mean squared error\n",
        "mse_root = mean_squared_error(y_test, ypred, squared = False)\n",
        "print('mse_root ----> ', mse_root)"
      ]
    },
    {
      "cell_type": "code",
      "execution_count": null,
      "metadata": {
        "id": "EYdQvu39xSfU",
        "outputId": "87585b57-17f7-4fd5-e095-546e4d372274"
      },
      "outputs": [
        {
          "name": "stdout",
          "output_type": "stream",
          "text": [
            "r2 ---->  0.6666244600818589\n",
            "time: 2.75 ms (started: 2023-02-19 18:46:09 +03:00)\n"
          ]
        }
      ],
      "source": [
        "# We note quite a high r2_score showing good model performance on the test set.\n",
        "from sklearn.metrics import r2_score\n",
        "r2 = r2_score(y_test, ypred)\n",
        "print('r2 ----> ', r2)"
      ]
    },
    {
      "cell_type": "code",
      "execution_count": null,
      "metadata": {
        "id": "Wx3HmGatxSfV",
        "outputId": "ffba8303-31f0-4206-a797-8c645a0581e7"
      },
      "outputs": [
        {
          "name": "stdout",
          "output_type": "stream",
          "text": [
            "adj_r2_score ---->  0.6666199409610792\n",
            "time: 674 µs (started: 2023-02-19 18:46:09 +03:00)\n"
          ]
        }
      ],
      "source": [
        "n = len(y_test)\n",
        "k = 1\n",
        "\n",
        "# calculate adjusted r2 score\n",
        "adj_r2_score = 1-(((1-r2)*(n-1))/(n-k-1))\n",
        "print('adj_r2_score ----> ', adj_r2_score)"
      ]
    },
    {
      "cell_type": "code",
      "execution_count": null,
      "metadata": {
        "id": "guTO3lcWxSfW",
        "outputId": "53a25ef4-a8ed-4ff6-9034-152bcb57fd64"
      },
      "outputs": [
        {
          "data": {
            "image/png": "[encoded data removed]",
            "text/plain": [
              "<Figure size 640x480 with 1 Axes>"
            ]
          },
          "metadata": {},
          "output_type": "display_data"
        },
        {
          "name": "stdout",
          "output_type": "stream",
          "text": [
            "time: 427 ms (started: 2023-02-19 18:46:09 +03:00)\n"
          ]
        }
      ],
      "source": [
        "x_ax = range(len(y_test))\n",
        "plt.plot(x_ax, y_test, label=\"original\")\n",
        "plt.plot(x_ax, ypred, label=\"predicted\")\n",
        "plt.title(\"Predict score of toxic comment\")\n",
        "plt.legend()\n",
        "plt.show()\n"
      ]
    },
    {
      "cell_type": "markdown",
      "metadata": {
        "collapsed": false,
        "id": "CSnV53NJxSfW"
      },
      "source": [
        "## Use pipeline it is better so that we no face with error mismatch when test model in our custom data"
      ]
    },
    {
      "cell_type": "code",
      "execution_count": null,
      "metadata": {
        "id": "-r3yRaM_xSfX",
        "outputId": "07e76218-d429-48a9-ade2-9dd011f69d88"
      },
      "outputs": [
        {
          "name": "stdout",
          "output_type": "stream",
          "text": [
            "time: 22.1 s (started: 2023-02-19 18:46:09 +03:00)\n"
          ]
        }
      ],
      "source": [
        "from xgboost import XGBRegressor\n",
        "from sklearn.pipeline import Pipeline\n",
        "#define model\n",
        "model = XGBRegressor()\n",
        "#bundle preprocessing and modelling code in pipeline\n",
        "my_pipeline = Pipeline(steps=[('TFiDF',TfidfVectorizer()),\n",
        "                              ('model',model)])\n",
        "#preprocessinf of training data, fit model\n",
        "my_pipeline.fit(X_train, y_train)\n",
        "#preprocessing of validation data, get predictions\n",
        "xgb_preds = my_pipeline.predict(X_test)"
      ]
    },
    {
      "cell_type": "code",
      "execution_count": null,
      "metadata": {
        "id": "-BoxEPKnxSfY",
        "outputId": "911b2ff3-2dc1-43a4-e74d-227077bb5f77"
      },
      "outputs": [
        {
          "name": "stdout",
          "output_type": "stream",
          "text": [
            "time: 589 µs (started: 2023-02-19 18:46:32 +03:00)\n"
          ]
        }
      ],
      "source": [
        "comment_test = ['Fuck off and shut up kiss my ass shit!']\n",
        "comment_test_ = ['I love this world and want to kiss and shake hands everyone I see!']"
      ]
    },
    {
      "cell_type": "code",
      "execution_count": null,
      "metadata": {
        "id": "FylQxaytxSfY",
        "outputId": "8244d671-295e-4c2f-9973-4d1e2f3a9925"
      },
      "outputs": [
        {
          "name": "stdout",
          "output_type": "stream",
          "text": [
            "time: 690 µs (started: 2023-02-19 18:46:32 +03:00)\n"
          ]
        }
      ],
      "source": [
        "def test_model(comment_test):\n",
        "    df_test = pd.DataFrame(comment_test, columns=['comment_test'])\n",
        "    df_test['comment_test'] = df_test['comment_test'].apply(lambda x:normalization_text(x))\n",
        "    predict = my_pipeline.predict(df_test['comment_test'])\n",
        "    return predict"
      ]
    },
    {
      "cell_type": "code",
      "execution_count": null,
      "metadata": {
        "id": "JmlkWj6CxSfZ",
        "outputId": "fe390c13-5ec0-4eba-b21f-0db2bc847d9f"
      },
      "outputs": [
        {
          "data": {
            "text/plain": [
              "0.8804762"
            ]
          },
          "execution_count": 33,
          "metadata": {},
          "output_type": "execute_result"
        },
        {
          "name": "stdout",
          "output_type": "stream",
          "text": [
            "time: 25.1 ms (started: 2023-02-19 18:46:32 +03:00)\n"
          ]
        }
      ],
      "source": [
        "predict = test_model(comment_test)\n",
        "predict[0]"
      ]
    },
    {
      "cell_type": "code",
      "execution_count": null,
      "metadata": {
        "id": "pTRLgucvxSfa",
        "outputId": "2484edaa-b7fc-473e-afef-4cb0f671bc01"
      },
      "outputs": [
        {
          "data": {
            "text/plain": [
              "array([0.02440672], dtype=float32)"
            ]
          },
          "execution_count": 35,
          "metadata": {},
          "output_type": "execute_result"
        },
        {
          "name": "stdout",
          "output_type": "stream",
          "text": [
            "time: 45.4 ms (started: 2023-02-19 18:46:37 +03:00)\n"
          ]
        }
      ],
      "source": [
        "predict_ = test_model(comment_test_)\n",
        "predict_"
      ]
    },
    {
      "cell_type": "markdown",
      "metadata": {
        "id": "RIpgJz-xxSfb"
      },
      "source": [
        "# Tensorflow"
      ]
    },
    {
      "cell_type": "markdown",
      "source": [
        "## Data preprocessing: \n",
        "\n",
        "The same hate speech dataset was preprocessed in the same way as for the XGBRegressor model."
      ],
      "metadata": {
        "id": "2_pqMp73deKc"
      }
    },
    {
      "cell_type": "code",
      "execution_count": null,
      "metadata": {
        "id": "SKGEjH1FxSfc",
        "outputId": "732e3c00-6845-40a4-f6b2-edb813fe636c"
      },
      "outputs": [
        {
          "name": "stdout",
          "output_type": "stream",
          "text": [
            "time: 2.48 ms (started: 2023-02-21 00:05:47 +03:00)\n"
          ]
        }
      ],
      "source": [
        "import tensorflow\n",
        "import keras\n",
        "from keras.layers import Dense\n",
        "from keras.models import Sequential\n",
        "from keras.optimizers import Adam \n",
        "from keras.callbacks import EarlyStopping\n",
        "from keras.utils import np_utils\n",
        "from keras.layers import LSTM\n",
        "from keras.layers import Embedding\n",
        "from tensorflow.keras.preprocessing.sequence import pad_sequences"
      ]
    },
    {
      "cell_type": "code",
      "execution_count": null,
      "metadata": {
        "id": "5ZlmPpyexSfc",
        "outputId": "322d895f-ec42-460c-c4d6-1b330b22ca6e"
      },
      "outputs": [
        {
          "name": "stdout",
          "output_type": "stream",
          "text": [
            "time: 96.3 ms (started: 2023-02-20 02:00:30 +03:00)\n"
          ]
        }
      ],
      "source": [
        "X_train, X_test, y_train, y_test = train_test_split(df['comment_text'].values, df['score'].values, test_size=0.33, random_state=42)\n"
      ]
    },
    {
      "cell_type": "code",
      "execution_count": null,
      "metadata": {
        "id": "LGefkd82xSfd",
        "outputId": "6e12cf9b-d239-4052-8b19-4368326c13da"
      },
      "outputs": [
        {
          "data": {
            "text/plain": [
              "'michael jackson al littl legend going round obsc websit could ment dea michael jackson mainstream med pick fail wp gng mom talk'"
            ]
          },
          "execution_count": 193,
          "metadata": {},
          "output_type": "execute_result"
        },
        {
          "name": "stdout",
          "output_type": "stream",
          "text": [
            "time: 2.17 ms (started: 2023-02-20 02:00:30 +03:00)\n"
          ]
        }
      ],
      "source": [
        "X_train[0]"
      ]
    },
    {
      "cell_type": "code",
      "execution_count": null,
      "metadata": {
        "id": "ZJTydc7WxSfe",
        "outputId": "55407969-9d06-49a8-8f29-8f052c84f7bd"
      },
      "outputs": [
        {
          "name": "stdout",
          "output_type": "stream",
          "text": [
            "time: 3.63 s (started: 2023-02-20 02:04:48 +03:00)\n"
          ]
        }
      ],
      "source": [
        "from tensorflow.keras.preprocessing.text import Tokenizer\n",
        "oov_token = '<UNK>'\n",
        "\n",
        "tokenizer = Tokenizer(num_words=10000) # oov_token=oov_token\n",
        "tokenizer.fit_on_texts(X_train)"
      ]
    },
    {
      "cell_type": "code",
      "execution_count": null,
      "metadata": {
        "id": "_NNiKf5XxSff",
        "outputId": "cfde6b43-4c9e-47e9-f501-f0fb43bfeb04"
      },
      "outputs": [
        {
          "name": "stdout",
          "output_type": "stream",
          "text": [
            "time: 26.1 ms (started: 2023-02-20 02:04:51 +03:00)\n"
          ]
        }
      ],
      "source": [
        "word_index = tokenizer.word_index"
      ]
    },
    {
      "cell_type": "code",
      "execution_count": null,
      "metadata": {
        "id": "GEOoCUgXxSff",
        "outputId": "338d78f8-7f16-405f-cc24-088309fc8980"
      },
      "outputs": [
        {
          "data": {
            "text/plain": [
              "120004"
            ]
          },
          "execution_count": 211,
          "metadata": {},
          "output_type": "execute_result"
        },
        {
          "name": "stdout",
          "output_type": "stream",
          "text": [
            "time: 3.39 ms (started: 2023-02-20 02:04:51 +03:00)\n"
          ]
        }
      ],
      "source": [
        "len(word_index)"
      ]
    },
    {
      "cell_type": "code",
      "execution_count": null,
      "metadata": {
        "id": "EjLA9PYtxSfg",
        "outputId": "ace68593-03d5-4b6c-9bdf-ad1f3ea1b37d"
      },
      "outputs": [
        {
          "name": "stdout",
          "output_type": "stream",
          "text": [
            "time: 5.36 s (started: 2023-02-20 02:04:52 +03:00)\n"
          ]
        }
      ],
      "source": [
        "train_sequences = tokenizer.texts_to_sequences(X_train)\n",
        "test_sequences = tokenizer.texts_to_sequences(X_test)"
      ]
    },
    {
      "cell_type": "code",
      "execution_count": 1,
      "metadata": {
        "id": "4I5d3cpTxSfg"
      },
      "outputs": [],
      "source": [
        "# train_sequences"
      ]
    },
    {
      "cell_type": "code",
      "execution_count": null,
      "metadata": {
        "id": "kd6g4D_XxSfh",
        "outputId": "6ed1c813-1de5-48d0-abdc-0120789c8c7a"
      },
      "outputs": [
        {
          "name": "stdout",
          "output_type": "stream",
          "text": [
            "time: 18.2 ms (started: 2023-02-20 02:05:23 +03:00)\n"
          ]
        }
      ],
      "source": [
        "maxlen = max([len(x) for x in train_sequences])"
      ]
    },
    {
      "cell_type": "code",
      "execution_count": null,
      "metadata": {
        "id": "ksxLg47QxSfi",
        "outputId": "767a10c5-8d79-41fa-ba8f-82527cd55f55"
      },
      "outputs": [
        {
          "data": {
            "text/plain": [
              "1426"
            ]
          },
          "execution_count": 218,
          "metadata": {},
          "output_type": "execute_result"
        },
        {
          "name": "stdout",
          "output_type": "stream",
          "text": [
            "time: 1.63 ms (started: 2023-02-20 02:05:24 +03:00)\n"
          ]
        }
      ],
      "source": [
        "maxlen"
      ]
    },
    {
      "cell_type": "code",
      "execution_count": null,
      "metadata": {
        "id": "lpfxBgrBxSfi",
        "outputId": "1b9db8d9-c480-4f41-a6f3-995354e72a94"
      },
      "outputs": [
        {
          "name": "stdout",
          "output_type": "stream",
          "text": [
            "time: 320 ms (started: 2023-02-20 02:05:31 +03:00)\n"
          ]
        }
      ],
      "source": [
        "training_padded = pad_sequences(train_sequences,\n",
        "                                maxlen=50, \n",
        "                                truncating='post', \n",
        "                                padding='post'\n",
        "                               )"
      ]
    },
    {
      "cell_type": "code",
      "execution_count": null,
      "metadata": {
        "id": "ekcNX7RNxSfj",
        "outputId": "ef5c0ed6-bac3-46cc-fd31-80330c12d297"
      },
      "outputs": [
        {
          "name": "stdout",
          "output_type": "stream",
          "text": [
            "time: 162 ms (started: 2023-02-20 02:05:33 +03:00)\n"
          ]
        }
      ],
      "source": [
        "testting_padded = pad_sequences(test_sequences,\n",
        "                                maxlen=50, \n",
        "                                truncating='post', \n",
        "                                padding='post'\n",
        "                               )"
      ]
    },
    {
      "cell_type": "code",
      "execution_count": null,
      "metadata": {
        "id": "MP-Iq3lvxSfl",
        "outputId": "6c2c83f7-50ce-45a4-ccfb-792b2bd086b4"
      },
      "outputs": [
        {
          "name": "stdout",
          "output_type": "stream",
          "text": [
            "time: 230 µs (started: 2023-02-20 02:05:35 +03:00)\n"
          ]
        }
      ],
      "source": [
        "vocab_size = len(word_index)"
      ]
    },
    {
      "cell_type": "markdown",
      "source": [
        "## Model architecture: \n",
        "\n",
        "A deep learning architecture consisting of an embedding layer, two LSTM layers, and a dense output layer was built using TensorFlow. The embedding layer learned a dense representation of the input text, while the LSTM layers captured the sequence information. The dense output layer predicted the probability of hate speech.\n",
        "\n",
        "The loss function used was binary cross-entropy, and the optimizer used was Adam."
      ],
      "metadata": {
        "id": "ZyVyrfdudle9"
      }
    },
    {
      "cell_type": "code",
      "execution_count": null,
      "metadata": {
        "id": "c2IIqTB4xSfl",
        "outputId": "8502b1f9-8503-42f5-af88-e8f8c1e753d6"
      },
      "outputs": [
        {
          "name": "stdout",
          "output_type": "stream",
          "text": [
            "Model: \"sequential_3\"\n",
            "_________________________________________________________________\n",
            " Layer (type)                Output Shape              Param #   \n",
            "=================================================================\n",
            " embedding_3 (Embedding)     (None, 100, 128)          15360512  \n",
            "                                                                 \n",
            " lstm_6 (LSTM)               (None, 100, 512)          1312768   \n",
            "                                                                 \n",
            " lstm_7 (LSTM)               (None, 128)               328192    \n",
            "                                                                 \n",
            " dense_6 (Dense)             (None, 16)                2064      \n",
            "                                                                 \n",
            " dense_7 (Dense)             (None, 1)                 17        \n",
            "                                                                 \n",
            "=================================================================\n",
            "Total params: 17,003,553\n",
            "Trainable params: 17,003,553\n",
            "Non-trainable params: 0\n",
            "_________________________________________________________________\n",
            "time: 803 ms (started: 2023-02-20 00:58:06 +03:00)\n"
          ]
        }
      ],
      "source": [
        "model = Sequential()\n",
        "model.add(Embedding(vocab_size, 128, input_length=100)) \n",
        "model.add(LSTM(512, dropout=0.2, recurrent_dropout=0.2, return_sequences=True)) \n",
        "model.add(LSTM(128, dropout=0.2,recurrent_dropout=0.2))\n",
        "model.add(Dense(16, activation='relu'))\n",
        "model.add(Dense(1))\n",
        "\n",
        "model.compile(\n",
        "    loss= 'mean_squared_error',  # tensorflow.keras.metrics.mean_squared_error,\n",
        "    optimizer='Adam')\n",
        "    #  metrics=[tensorflow.keras.metrics.RootMeanSquaredError(name='rmse')])\n",
        "\n",
        "model.summary()"
      ]
    },
    {
      "cell_type": "markdown",
      "source": [
        "## Model training: \n",
        "\n",
        "The TensorFlow model was trained using the preprocessed data. "
      ],
      "metadata": {
        "id": "VvCXcJVjdvkX"
      }
    },
    {
      "cell_type": "code",
      "execution_count": null,
      "metadata": {
        "id": "c_Hj8n7txSfm"
      },
      "outputs": [],
      "source": [
        "model.fit(training_padded, y_train, epochs = 3, batch_size=128)"
      ]
    },
    {
      "cell_type": "code",
      "execution_count": null,
      "metadata": {
        "id": "-41AxudFxSfn",
        "outputId": "e8f3481a-0dcf-4fec-b60b-36d65874685f"
      },
      "outputs": [
        {
          "name": "stderr",
          "output_type": "stream",
          "text": [
            "WARNING:absl:Found untraced functions such as _jit_compiled_convolution_op, _jit_compiled_convolution_op while saving (showing 2 of 2). These functions will not be directly callable after loading.\n"
          ]
        },
        {
          "name": "stdout",
          "output_type": "stream",
          "text": [
            "INFO:tensorflow:Assets written to: /Users/miroslav/PycharmProjects/NLP Project/toxic detection/models/model_c/assets\n"
          ]
        },
        {
          "name": "stderr",
          "output_type": "stream",
          "text": [
            "INFO:tensorflow:Assets written to: /Users/miroslav/PycharmProjects/NLP Project/toxic detection/models/model_c/assets\n"
          ]
        },
        {
          "name": "stdout",
          "output_type": "stream",
          "text": [
            "time: 4.5 s (started: 2023-02-20 15:13:08 +03:00)\n"
          ]
        }
      ],
      "source": [
        "model.save(\"/Users/miroslav/PycharmProjects/NLP Project/toxic detection/models/model_c\")"
      ]
    },
    {
      "cell_type": "code",
      "execution_count": null,
      "metadata": {
        "id": "4az3TPRdxSfn"
      },
      "outputs": [],
      "source": [
        "loaded_model = keras.models.load_model('/Users/miroslav/PycharmProjects/NLP Project/toxic detection/models/model_c')"
      ]
    },
    {
      "cell_type": "markdown",
      "source": [
        "## Model evaluation: \n",
        "\n",
        "The TensorFlow model was evaluated using the same metrics as for the XGBRegressor model. The model was also tested on a holdout dataset to assess its generalization performance."
      ],
      "metadata": {
        "id": "paA_eRp_eBrv"
      }
    },
    {
      "cell_type": "code",
      "execution_count": null,
      "metadata": {
        "id": "sP1OqY46xSfo",
        "outputId": "8694ba3e-4cd9-4b2d-8353-c009c5cca8f0"
      },
      "outputs": [
        {
          "name": "stdout",
          "output_type": "stream",
          "text": [
            "2306/2306 [==============================] - 232s 100ms/step\n",
            "time: 3min 52s (started: 2023-02-20 00:24:13 +03:00)\n"
          ]
        }
      ],
      "source": [
        "y_pred = model.predict(testting_padded)"
      ]
    },
    {
      "cell_type": "code",
      "execution_count": null,
      "metadata": {
        "id": "f422ZqbMxSfp",
        "outputId": "47697f72-7ff6-4f39-ba4b-06399458bc7f"
      },
      "outputs": [
        {
          "name": "stdout",
          "output_type": "stream",
          "text": [
            "mse ---->  0.013136994283118498\n",
            "mse_root ---->  0.11461672776309093\n",
            "time: 53.1 ms (started: 2023-02-20 00:28:08 +03:00)\n"
          ]
        }
      ],
      "source": [
        "from sklearn.metrics import mean_squared_error\n",
        "mse = mean_squared_error(y_test, y_pred)\n",
        "print('mse ----> ', mse)\n",
        "# root mean squared error\n",
        "mse_root = mean_squared_error(y_test, y_pred, squared = False)\n",
        "print('mse_root ----> ', mse_root)"
      ]
    },
    {
      "cell_type": "code",
      "execution_count": null,
      "metadata": {
        "id": "gKznEWSLxSfq",
        "outputId": "b5f1d0ac-d2d4-48dd-92a5-70c943a680eb"
      },
      "outputs": [
        {
          "name": "stdout",
          "output_type": "stream",
          "text": [
            "r2 ---->  0.15374190694994117\n",
            "time: 5.06 ms (started: 2023-02-20 00:28:11 +03:00)\n"
          ]
        }
      ],
      "source": [
        "# We note quite a high r2_score showing good model performance on the test set.\n",
        "from sklearn.metrics import r2_score\n",
        "r2 = r2_score(y_test, y_pred)\n",
        "print('r2 ----> ', r2)"
      ]
    },
    {
      "cell_type": "code",
      "execution_count": null,
      "metadata": {
        "id": "2kcbJ3v9xSfr",
        "outputId": "1e1b8534-2e78-4672-da38-1fbd47a5820f"
      },
      "outputs": [
        {
          "data": {
            "text/plain": [
              "array([[ 520,   31, 1373,    0,    0,    0,    0,    0,    0,    0,    0,\n",
              "           0,    0,    0,    0,    0,    0,    0,    0,    0,    0,    0,\n",
              "           0,    0,    0,    0,    0,    0,    0,    0,    0,    0,    0,\n",
              "           0,    0,    0,    0,    0,    0,    0,    0,    0,    0,    0,\n",
              "           0,    0,    0,    0,    0,    0]], dtype=int32)"
            ]
          },
          "execution_count": 121,
          "metadata": {},
          "output_type": "execute_result"
        },
        {
          "name": "stdout",
          "output_type": "stream",
          "text": [
            "time: 13.8 ms (started: 2023-02-20 00:37:38 +03:00)\n"
          ]
        }
      ],
      "source": [
        "comment = ['fucking asshole']\n",
        "\n",
        "def preprocessing(tokenizer, comment):\n",
        "    df_test = pd.DataFrame(comment, columns=['comment_test'])\n",
        "    df_test['comment_test'] = df_test['comment_test'].apply(lambda x:normalization_text(x))\n",
        "    comment = df_test['comment_test'].tolist()\n",
        "    train_sequences = tokenizer.texts_to_sequences(comment)\n",
        "    training_padded = pad_sequences(train_sequences,\n",
        "                                maxlen=50, # МИРОСАЛВ: здесь укажи длину в 50\n",
        "                                truncating='post', \n",
        "                                padding='post'\n",
        "                               )\n",
        "    return training_padded\n",
        "\n",
        "test = preprocessing(tokenizer, comment)\n",
        "y_pred = model.predict(test)\n",
        "y_pred"
      ]
    },
    {
      "cell_type": "markdown",
      "metadata": {
        "id": "duCXt4G6xSfs"
      },
      "source": [
        "## Regression with new model СNN - faster than LSTM"
      ]
    },
    {
      "cell_type": "code",
      "execution_count": null,
      "metadata": {
        "id": "9nm5FEkpxSfs",
        "outputId": "f9caec0a-d31a-4f7f-8726-6f36098bc3d6"
      },
      "outputs": [
        {
          "name": "stdout",
          "output_type": "stream",
          "text": [
            "time: 414 ms (started: 2023-02-20 14:30:10 +03:00)\n"
          ]
        }
      ],
      "source": [
        "X_train, X_test, y_train, y_test = train_test_split(df['comment_text'].values, df['score'].values, test_size=0.33, random_state=42)\n"
      ]
    },
    {
      "cell_type": "code",
      "execution_count": null,
      "metadata": {
        "id": "ICC-PUK3xSft",
        "outputId": "0d4b6a66-de2d-4d40-fb32-2d6836112b31"
      },
      "outputs": [
        {
          "name": "stdout",
          "output_type": "stream",
          "text": [
            "time: 7.03 s (started: 2023-02-20 14:30:11 +03:00)\n"
          ]
        }
      ],
      "source": [
        "from tensorflow.keras.preprocessing.text import Tokenizer\n",
        "oov_token = '<UNK>'\n",
        "\n",
        "tokenizer = Tokenizer(num_words=100000) # oov_token=oov_token\n",
        "tokenizer.fit_on_texts(X_train)\n",
        "\n",
        "word_index = tokenizer.word_index\n",
        "\n",
        "vocab_size = len(word_index)\n",
        "\n",
        "\n",
        "maxlen = max([len(x) for x in train_sequences])\n",
        "\n",
        "train_sequences = tokenizer.texts_to_sequences(X_train)\n",
        "test_sequences = tokenizer.texts_to_sequences(X_test)\n",
        "\n",
        "training_padded = pad_sequences(train_sequences,\n",
        "                                maxlen=50, # МИРОСАЛВ: здесь укажи длину в 50\n",
        "                                truncating='post', \n",
        "                                padding='post'\n",
        "                               )\n",
        "\n",
        "testting_padded = pad_sequences(test_sequences,\n",
        "                                maxlen=50, # МИРОСАЛВ: здесь укажи длину в 50\n",
        "                                truncating='post', \n",
        "                                padding='post'\n",
        "                               )"
      ]
    },
    {
      "cell_type": "code",
      "execution_count": null,
      "metadata": {
        "id": "LGGtAjWzxSft",
        "outputId": "c04e363a-6b10-48f6-8006-74cc44a165b8"
      },
      "outputs": [
        {
          "name": "stdout",
          "output_type": "stream",
          "text": [
            "training CNN ...\n",
            "Model: \"sequential_15\"\n",
            "_________________________________________________________________\n",
            " Layer (type)                Output Shape              Param #   \n",
            "=================================================================\n",
            " embedding_15 (Embedding)    (None, 50, 512)           61442048  \n",
            "                                                                 \n",
            " conv1d_20 (Conv1D)          (None, 50, 64)            98368     \n",
            "                                                                 \n",
            " max_pooling1d_10 (MaxPoolin  (None, 25, 64)           0         \n",
            " g1D)                                                            \n",
            "                                                                 \n",
            " conv1d_21 (Conv1D)          (None, 25, 64)            12352     \n",
            "                                                                 \n",
            " global_max_pooling1d_10 (Gl  (None, 64)               0         \n",
            " obalMaxPooling1D)                                               \n",
            "                                                                 \n",
            " dropout_10 (Dropout)        (None, 64)                0         \n",
            "                                                                 \n",
            " dense_28 (Dense)            (None, 32)                2080      \n",
            "                                                                 \n",
            " dense_29 (Dense)            (None, 1)                 33        \n",
            "                                                                 \n",
            "=================================================================\n",
            "Total params: 61,554,881\n",
            "Trainable params: 61,554,881\n",
            "Non-trainable params: 0\n",
            "_________________________________________________________________\n",
            "time: 617 ms (started: 2023-02-20 14:30:36 +03:00)\n"
          ]
        },
        {
          "name": "stderr",
          "output_type": "stream",
          "text": [
            "/Users/miroslav/opt/anaconda3/envs/NL/lib/python3.10/site-packages/keras/optimizers/optimizer_v2/adam.py:114: UserWarning: The `lr` argument is deprecated, use `learning_rate` instead.\n",
            "  super().__init__(name, **kwargs)\n"
          ]
        }
      ],
      "source": [
        "from keras.layers import Embedding, Conv1D, MaxPooling1D, GlobalMaxPooling1D\n",
        "from keras import regularizers\n",
        "from keras.layers import Dense, Activation, Dropout, Flatten\n",
        "from keras import optimizers\n",
        "\n",
        "\n",
        "\n",
        "vocab_size = len(word_index)\n",
        "\n",
        "batch_size = 512\n",
        "num_epochs = 8 \n",
        "\n",
        "#model parameters\n",
        "num_filters = 64\n",
        "\n",
        "weight_decay = 1e-4\n",
        "\n",
        "kernel_size = 3\n",
        "#CNN architecture\n",
        "print(\"training CNN ...\")\n",
        "model = Sequential()\n",
        "model.add(Embedding(vocab_size, 512, input_length=50))\n",
        "model.add(Conv1D(num_filters, kernel_size, activation='relu', padding='same', kernel_initializer='normal'))  # kernel_initializer='normal'\n",
        "model.add(MaxPooling1D(2))\n",
        "model.add(Conv1D(num_filters, kernel_size, activation='relu', padding='same', kernel_initializer='normal'))  # kernel_initializer='normal'\n",
        "model.add(GlobalMaxPooling1D())\n",
        "model.add(Dropout(0.5))\n",
        "model.add(Dense(32, activation='relu', kernel_regularizer=regularizers.l2(weight_decay))) # kernel_initializer='normal'\n",
        "model.add(Dense(1, kernel_initializer='normal'))  #multi-label (k-hot encoding)\n",
        "\n",
        "adam = optimizers.Adam(lr=0.001, beta_1=0.9, beta_2=0.999, epsilon=1e-08, decay=0.0)\n",
        "model.compile(loss='mean_squared_error', optimizer=adam, metrics=[tensorflow.keras.metrics.RootMeanSquaredError(name='rmse')])\n",
        "model.summary()"
      ]
    },
    {
      "cell_type": "code",
      "execution_count": null,
      "metadata": {
        "id": "a29Ki5B6xSfu",
        "outputId": "ec79a9a3-fe16-401f-e4f3-3f10cfb4bd9c"
      },
      "outputs": [
        {
          "name": "stdout",
          "output_type": "stream",
          "text": [
            "Epoch 1/8\n",
            "469/469 [==============================] - 267s 567ms/step - loss: 0.0076 - rmse: 0.0797 - val_loss: 0.0056 - val_rmse: 0.0721\n",
            "Epoch 2/8\n",
            "469/469 [==============================] - 261s 556ms/step - loss: 0.0041 - rmse: 0.0617 - val_loss: 0.0056 - val_rmse: 0.0738\n",
            "Epoch 3/8\n",
            "469/469 [==============================] - 233s 497ms/step - loss: 0.0027 - rmse: 0.0507 - val_loss: 0.0055 - val_rmse: 0.0732\n",
            "Epoch 4/8\n",
            "469/469 [==============================] - 244s 519ms/step - loss: 0.0021 - rmse: 0.0443 - val_loss: 0.0054 - val_rmse: 0.0726\n",
            "Epoch 5/8\n",
            "469/469 [==============================] - 252s 537ms/step - loss: 0.0017 - rmse: 0.0402 - val_loss: 0.0056 - val_rmse: 0.0740\n",
            "Epoch 6/8\n",
            "469/469 [==============================] - 242s 515ms/step - loss: 0.0015 - rmse: 0.0375 - val_loss: 0.0056 - val_rmse: 0.0741\n",
            "Epoch 7/8\n",
            "469/469 [==============================] - 224s 476ms/step - loss: 0.0013 - rmse: 0.0354 - val_loss: 0.0056 - val_rmse: 0.0746\n",
            "Epoch 8/8\n",
            "469/469 [==============================] - 235s 500ms/step - loss: 0.0012 - rmse: 0.0340 - val_loss: 0.0056 - val_rmse: 0.0742\n",
            "time: 32min 37s (started: 2023-02-20 14:31:08 +03:00)\n"
          ]
        }
      ],
      "source": [
        "# early_stopping = EarlyStopping(monitor='val_loss', min_delta=0.01, patience=4, verbose=1)\n",
        "# callbacks_list = [early_stopping] # function for stop fitting model when loss is reduce for particular treshhold\n",
        "batch_size = 256\n",
        "num_epochs = 8\n",
        "hist_model = model.fit(training_padded, y_train, batch_size=batch_size, epochs=num_epochs,  validation_split=0.2) #callbacks=callbacks_list, validation_split=0.1, shuffle=True, verbose=2)"
      ]
    },
    {
      "cell_type": "code",
      "execution_count": null,
      "metadata": {
        "id": "xarD1WeyxSfv",
        "outputId": "e29d1e28-459e-49da-8ee0-64e082977d77"
      },
      "outputs": [
        {
          "name": "stdout",
          "output_type": "stream",
          "text": [
            "2306/2306 [==============================] - 9s 4ms/step\n",
            "time: 10.1 s (started: 2023-02-20 15:08:39 +03:00)\n"
          ]
        }
      ],
      "source": [
        "y_pred = model.predict(testting_padded)"
      ]
    },
    {
      "cell_type": "code",
      "execution_count": null,
      "metadata": {
        "id": "nGQfFupExSfv",
        "outputId": "f0d24b73-bba1-45ca-dd67-8c5bbaeb03ed"
      },
      "outputs": [
        {
          "name": "stdout",
          "output_type": "stream",
          "text": [
            "mse ---->  0.005064422544789027\n",
            "mse_root ---->  0.0711647563389985\n",
            "time: 29.6 ms (started: 2023-02-20 15:08:50 +03:00)\n"
          ]
        }
      ],
      "source": [
        "from sklearn.metrics import mean_squared_error\n",
        "mse = mean_squared_error(y_test, y_pred)\n",
        "print('mse ----> ', mse)\n",
        "# root mean squared error\n",
        "mse_root = mean_squared_error(y_test, y_pred, squared = False)\n",
        "print('mse_root ----> ', mse_root)"
      ]
    },
    {
      "cell_type": "code",
      "execution_count": null,
      "metadata": {
        "id": "0OtOH442xSfw",
        "outputId": "9a15498f-3596-417c-beb4-adbbd9d10755"
      },
      "outputs": [
        {
          "name": "stdout",
          "output_type": "stream",
          "text": [
            "r2 ---->  0.6737603387206841\n",
            "time: 16.9 ms (started: 2023-02-20 15:08:53 +03:00)\n"
          ]
        }
      ],
      "source": [
        "# We note quite a high r2_score showing good model performance on the test set.\n",
        "from sklearn.metrics import r2_score\n",
        "r2 = r2_score(y_test, y_pred)\n",
        "print('r2 ----> ', r2)"
      ]
    },
    {
      "cell_type": "code",
      "execution_count": null,
      "metadata": {
        "id": "ebr-k_QCxSfw",
        "outputId": "f48a0df8-8cc9-430e-be6c-8e1228aa0cfb"
      },
      "outputs": [
        {
          "name": "stdout",
          "output_type": "stream",
          "text": [
            "1/1 [==============================] - 0s 31ms/step\n"
          ]
        },
        {
          "data": {
            "text/plain": [
              "array([[0.39409852]], dtype=float32)"
            ]
          },
          "execution_count": 299,
          "metadata": {},
          "output_type": "execute_result"
        },
        {
          "name": "stdout",
          "output_type": "stream",
          "text": [
            "time: 126 ms (started: 2023-02-20 15:12:10 +03:00)\n"
          ]
        }
      ],
      "source": [
        "# comment = ['fucking asshole I kill you I hate you']\n",
        "\n",
        "# comment = ['Today I learn a lot of maths']\n",
        "\n",
        "comment = ['fucking asshole!']\n",
        "\n",
        "# comment = ['I love this world and want to kiss and shake hands everyone I see!']\n",
        "\n",
        "\n",
        "def preprocessing(tokenizer, comment):\n",
        "    df_test = pd.DataFrame(comment, columns=['comment_test'])\n",
        "    df_test['comment_test'] = df_test['comment_test'].apply(lambda x:normalization_text(x))\n",
        "    comment = df_test['comment_test'].tolist()\n",
        "    train_sequences = tokenizer.texts_to_sequences(comment)\n",
        "    training_padded = pad_sequences(train_sequences,\n",
        "                                maxlen=50, # МИРОСАЛВ: здесь укажи длину в 50\n",
        "                                truncating='post', \n",
        "                                padding='post'\n",
        "                               )\n",
        "    return training_padded\n",
        "\n",
        "test = preprocessing(tokenizer, comment)\n",
        "y_pred = model.predict(test)\n",
        "y_pred"
      ]
    },
    {
      "cell_type": "code",
      "execution_count": null,
      "metadata": {
        "id": "fyNm6qXqxSfx"
      },
      "outputs": [],
      "source": []
    },
    {
      "cell_type": "markdown",
      "metadata": {
        "id": "A6nMzer0xSfy"
      },
      "source": [
        "## Implement classification model in exists dataset\n",
        "- CNNs provide a faster alternative to LSTM models at a comparable performance. They are faster to train and use fewer parameters. CNN models are translation invariant and in application to text make sense when there is no strong dependence on recent past vs distant past of the input sequence. CNNs can learn patterns in word embeddings and given the nature of the dataset (e.g. multiple misspellings, out of vocabulary words), it makes sense to use sub-word information. In this notebook, a simple CNN architecture is used for multi-label classification with the help of FastText word embeddings. Thus, it can be a good addition (diverse and accurate) to your ensemble."
      ]
    },
    {
      "cell_type": "code",
      "execution_count": null,
      "metadata": {
        "id": "BLALI_7rxSfy"
      },
      "outputs": [],
      "source": [
        "df = pd.read_csv('./data/jigsaw-toxic-comment-train.csv')\n",
        "df['comment_text'] = df['comment_text'].apply(lambda x: normalization_text(x))"
      ]
    },
    {
      "cell_type": "code",
      "execution_count": null,
      "metadata": {
        "id": "FNLhBebBxSfz",
        "outputId": "07f24fa1-b98b-486a-a9b5-70d6753af876"
      },
      "outputs": [
        {
          "name": "stdout",
          "output_type": "stream",
          "text": [
            "time: 106 ms (started: 2023-02-20 01:45:56 +03:00)\n"
          ]
        }
      ],
      "source": [
        "labels = [\"toxic\", \"severe_toxic\", \"obscene\", \"threat\", \"insult\", \"identity_hate\"]\n",
        "\n",
        "num_classes = len(labels)\n",
        "\n",
        "X_train, X_test, y_train, y_test = train_test_split(df['comment_text'].values, \\\n",
        "                                                    df[labels].values, test_size=0.33, random_state=42)"
      ]
    },
    {
      "cell_type": "code",
      "execution_count": null,
      "metadata": {
        "id": "jDtkfaa5xSfz",
        "outputId": "5f67e788-43b3-4fcf-98d9-3215ec508195"
      },
      "outputs": [
        {
          "name": "stdout",
          "output_type": "stream",
          "text": [
            "time: 9.16 s (started: 2023-02-20 01:16:46 +03:00)\n"
          ]
        }
      ],
      "source": [
        "from tensorflow.keras.preprocessing.text import Tokenizer\n",
        "oov_token = '<UNK>'\n",
        "\n",
        "tokenizer = Tokenizer(num_words=10000) # oov_token=oov_token\n",
        "tokenizer.fit_on_texts(X_train)\n",
        "train_sequences = tokenizer.texts_to_sequences(X_train)\n",
        "test_sequences = tokenizer.texts_to_sequences(X_test)\n",
        "\n",
        "maxlen = max([len(x) for x in train_sequences])\n",
        "\n",
        "vocab_size = len(word_index)\n",
        "\n",
        "batch_size = 256 \n",
        "num_epochs = 8 \n",
        "\n",
        "#model parameters\n",
        "num_filters = 64\n",
        "\n",
        "weight_decay = 1e-4\n",
        "\n",
        "training_padded = pad_sequences(train_sequences,\n",
        "                                maxlen=50, # МИРОСАЛВ: здесь укажи длину в 50\n",
        "                                truncating='post', \n",
        "                                padding='post'\n",
        "                               )\n",
        "\n",
        "testting_padded = pad_sequences(test_sequences,\n",
        "                                maxlen=50, # МИРОСАЛВ: здесь укажи длину в 50\n",
        "                                truncating='post', \n",
        "                                padding='post'\n",
        "                               )"
      ]
    },
    {
      "cell_type": "code",
      "execution_count": null,
      "metadata": {
        "id": "Ly1R-hRfxSf0",
        "outputId": "e9cdc3e2-1e1f-425c-c412-64c87596c56d"
      },
      "outputs": [
        {
          "name": "stdout",
          "output_type": "stream",
          "text": [
            "training CNN ...\n",
            "Model: \"sequential_4\"\n",
            "_________________________________________________________________\n",
            " Layer (type)                Output Shape              Param #   \n",
            "=================================================================\n",
            " embedding_4 (Embedding)     (None, 50, 128)           15360512  \n",
            "                                                                 \n",
            " conv1d (Conv1D)             (None, 50, 64)            57408     \n",
            "                                                                 \n",
            " max_pooling1d (MaxPooling1D  (None, 25, 64)           0         \n",
            " )                                                               \n",
            "                                                                 \n",
            " conv1d_1 (Conv1D)           (None, 25, 64)            28736     \n",
            "                                                                 \n",
            " global_max_pooling1d (Globa  (None, 64)               0         \n",
            " lMaxPooling1D)                                                  \n",
            "                                                                 \n",
            " dropout (Dropout)           (None, 64)                0         \n",
            "                                                                 \n",
            " dense_8 (Dense)             (None, 32)                2080      \n",
            "                                                                 \n",
            " dense_9 (Dense)             (None, 6)                 198       \n",
            "                                                                 \n",
            "=================================================================\n",
            "Total params: 15,448,934\n",
            "Trainable params: 15,448,934\n",
            "Non-trainable params: 0\n",
            "_________________________________________________________________\n",
            "time: 562 ms (started: 2023-02-20 01:16:59 +03:00)\n"
          ]
        },
        {
          "name": "stderr",
          "output_type": "stream",
          "text": [
            "/Users/miroslav/opt/anaconda3/envs/NL/lib/python3.10/site-packages/keras/optimizers/optimizer_v2/adam.py:114: UserWarning: The `lr` argument is deprecated, use `learning_rate` instead.\n",
            "  super().__init__(name, **kwargs)\n"
          ]
        }
      ],
      "source": [
        "from keras.layers import Embedding, Conv1D, MaxPooling1D, GlobalMaxPooling1D\n",
        "from keras import regularizers\n",
        "from keras.layers import Dense, Activation, Dropout, Flatten\n",
        "from keras import optimizers\n",
        "\n",
        "#CNN architecture\n",
        "print(\"training CNN ...\")\n",
        "model = Sequential()\n",
        "model.add(Embedding(vocab_size, 128, input_length=50))\n",
        "model.add(Conv1D(num_filters, 7, activation='relu', padding='same'))\n",
        "model.add(MaxPooling1D(2))\n",
        "model.add(Conv1D(num_filters, 7, activation='relu', padding='same'))\n",
        "model.add(GlobalMaxPooling1D())\n",
        "model.add(Dropout(0.5))\n",
        "model.add(Dense(32, activation='relu', kernel_regularizer=regularizers.l2(weight_decay)))\n",
        "model.add(Dense(num_classes, activation='sigmoid'))  #multi-label (k-hot encoding)\n",
        "\n",
        "adam = optimizers.Adam(lr=0.001, beta_1=0.9, beta_2=0.999, epsilon=1e-08, decay=0.0)\n",
        "model.compile(loss='binary_crossentropy', optimizer=adam, metrics=['accuracy'])\n",
        "model.summary()"
      ]
    },
    {
      "cell_type": "code",
      "execution_count": null,
      "metadata": {
        "id": "8dwZnHZ9xSf1",
        "outputId": "679c1ffd-d37c-424d-d438-bd2191fd1145"
      },
      "outputs": [
        {
          "name": "stdout",
          "output_type": "stream",
          "text": [
            "Epoch 1/8\n",
            "527/527 - 45s - loss: 0.1026 - accuracy: 0.8239 - val_loss: 0.0657 - val_accuracy: 0.9955 - 45s/epoch - 86ms/step\n",
            "Epoch 2/8\n",
            "527/527 - 43s - loss: 0.0606 - accuracy: 0.9845 - val_loss: 0.0632 - val_accuracy: 0.9955 - 43s/epoch - 82ms/step\n",
            "Epoch 3/8\n",
            "527/527 - 41s - loss: 0.0541 - accuracy: 0.9919 - val_loss: 0.0652 - val_accuracy: 0.9955 - 41s/epoch - 77ms/step\n",
            "Epoch 4/8\n",
            "527/527 - 40s - loss: 0.0484 - accuracy: 0.9945 - val_loss: 0.0679 - val_accuracy: 0.9955 - 40s/epoch - 76ms/step\n",
            "Epoch 5/8\n",
            "527/527 - 40s - loss: 0.0430 - accuracy: 0.9937 - val_loss: 0.0710 - val_accuracy: 0.9955 - 40s/epoch - 76ms/step\n",
            "Epoch 5: early stopping\n",
            "time: 3min 29s (started: 2023-02-20 01:18:26 +03:00)\n"
          ]
        }
      ],
      "source": [
        "#define callbacks\n",
        "early_stopping = EarlyStopping(monitor='val_loss', min_delta=0.01, patience=4, verbose=1)\n",
        "callbacks_list = [early_stopping]\n",
        "\n",
        "hist = model.fit(training_padded, y_train, batch_size=batch_size, epochs=num_epochs, callbacks=callbacks_list, validation_split=0.1, shuffle=True, verbose=2)"
      ]
    },
    {
      "cell_type": "code",
      "execution_count": null,
      "metadata": {
        "id": "3vCP-KJzxSf1",
        "outputId": "e8674a2f-08c4-4fa7-b051-587f5d2db4c3"
      },
      "outputs": [
        {
          "name": "stdout",
          "output_type": "stream",
          "text": [
            "2306/2306 [==============================] - 9s 4ms/step\n",
            "time: 8.96 s (started: 2023-02-20 01:42:21 +03:00)\n"
          ]
        }
      ],
      "source": [
        "y_pred = model.predict(testting_padded)"
      ]
    },
    {
      "cell_type": "code",
      "execution_count": null,
      "metadata": {
        "id": "eOwr2iA8xSf1",
        "outputId": "33aa108a-c2af-4b00-f994-c14528f6a01c"
      },
      "outputs": [
        {
          "data": {
            "text/html": [
              "<div>\n",
              "<style scoped>\n",
              "    .dataframe tbody tr th:only-of-type {\n",
              "        vertical-align: middle;\n",
              "    }\n",
              "\n",
              "    .dataframe tbody tr th {\n",
              "        vertical-align: top;\n",
              "    }\n",
              "\n",
              "    .dataframe thead th {\n",
              "        text-align: right;\n",
              "    }\n",
              "</style>\n",
              "<table border=\"1\" class=\"dataframe\">\n",
              "  <thead>\n",
              "    <tr style=\"text-align: right;\">\n",
              "      <th></th>\n",
              "      <th>toxic</th>\n",
              "      <th>severe_toxic</th>\n",
              "      <th>obscene</th>\n",
              "      <th>threat</th>\n",
              "      <th>insult</th>\n",
              "      <th>identity_hate</th>\n",
              "    </tr>\n",
              "  </thead>\n",
              "  <tbody>\n",
              "    <tr>\n",
              "      <th>0</th>\n",
              "      <td>0.849997</td>\n",
              "      <td>1.756194e-02</td>\n",
              "      <td>4.869022e-01</td>\n",
              "      <td>8.071026e-03</td>\n",
              "      <td>4.943621e-01</td>\n",
              "      <td>3.321489e-02</td>\n",
              "    </tr>\n",
              "    <tr>\n",
              "      <th>1</th>\n",
              "      <td>0.000001</td>\n",
              "      <td>2.136102e-13</td>\n",
              "      <td>4.470760e-08</td>\n",
              "      <td>2.885862e-12</td>\n",
              "      <td>8.801433e-09</td>\n",
              "      <td>9.799035e-11</td>\n",
              "    </tr>\n",
              "    <tr>\n",
              "      <th>2</th>\n",
              "      <td>0.867622</td>\n",
              "      <td>1.743926e-01</td>\n",
              "      <td>5.957840e-01</td>\n",
              "      <td>1.704855e-01</td>\n",
              "      <td>5.625650e-01</td>\n",
              "      <td>3.044776e-01</td>\n",
              "    </tr>\n",
              "    <tr>\n",
              "      <th>3</th>\n",
              "      <td>0.241682</td>\n",
              "      <td>1.519084e-04</td>\n",
              "      <td>2.044289e-02</td>\n",
              "      <td>4.227823e-04</td>\n",
              "      <td>2.200881e-02</td>\n",
              "      <td>1.739258e-03</td>\n",
              "    </tr>\n",
              "    <tr>\n",
              "      <th>4</th>\n",
              "      <td>0.000380</td>\n",
              "      <td>2.746998e-09</td>\n",
              "      <td>1.833829e-05</td>\n",
              "      <td>2.162285e-08</td>\n",
              "      <td>8.950958e-06</td>\n",
              "      <td>2.437045e-07</td>\n",
              "    </tr>\n",
              "    <tr>\n",
              "      <th>...</th>\n",
              "      <td>...</td>\n",
              "      <td>...</td>\n",
              "      <td>...</td>\n",
              "      <td>...</td>\n",
              "      <td>...</td>\n",
              "      <td>...</td>\n",
              "    </tr>\n",
              "    <tr>\n",
              "      <th>73767</th>\n",
              "      <td>0.045701</td>\n",
              "      <td>6.278895e-05</td>\n",
              "      <td>4.883371e-03</td>\n",
              "      <td>2.501438e-04</td>\n",
              "      <td>4.228549e-03</td>\n",
              "      <td>8.493444e-04</td>\n",
              "    </tr>\n",
              "    <tr>\n",
              "      <th>73768</th>\n",
              "      <td>0.094600</td>\n",
              "      <td>6.993089e-04</td>\n",
              "      <td>1.667992e-02</td>\n",
              "      <td>2.903034e-03</td>\n",
              "      <td>1.679722e-02</td>\n",
              "      <td>5.211209e-03</td>\n",
              "    </tr>\n",
              "    <tr>\n",
              "      <th>73769</th>\n",
              "      <td>0.007894</td>\n",
              "      <td>6.462674e-06</td>\n",
              "      <td>1.000149e-03</td>\n",
              "      <td>3.341530e-05</td>\n",
              "      <td>6.890298e-04</td>\n",
              "      <td>1.150988e-04</td>\n",
              "    </tr>\n",
              "    <tr>\n",
              "      <th>73770</th>\n",
              "      <td>0.263234</td>\n",
              "      <td>6.779019e-04</td>\n",
              "      <td>4.217507e-02</td>\n",
              "      <td>1.621079e-03</td>\n",
              "      <td>4.427062e-02</td>\n",
              "      <td>5.180608e-03</td>\n",
              "    </tr>\n",
              "    <tr>\n",
              "      <th>73771</th>\n",
              "      <td>0.000194</td>\n",
              "      <td>6.048170e-10</td>\n",
              "      <td>9.308638e-06</td>\n",
              "      <td>2.733540e-09</td>\n",
              "      <td>3.029993e-06</td>\n",
              "      <td>6.481225e-08</td>\n",
              "    </tr>\n",
              "  </tbody>\n",
              "</table>\n",
              "<p>73772 rows × 6 columns</p>\n",
              "</div>"
            ],
            "text/plain": [
              "          toxic  severe_toxic       obscene        threat        insult  \\\n",
              "0      0.849997  1.756194e-02  4.869022e-01  8.071026e-03  4.943621e-01   \n",
              "1      0.000001  2.136102e-13  4.470760e-08  2.885862e-12  8.801433e-09   \n",
              "2      0.867622  1.743926e-01  5.957840e-01  1.704855e-01  5.625650e-01   \n",
              "3      0.241682  1.519084e-04  2.044289e-02  4.227823e-04  2.200881e-02   \n",
              "4      0.000380  2.746998e-09  1.833829e-05  2.162285e-08  8.950958e-06   \n",
              "...         ...           ...           ...           ...           ...   \n",
              "73767  0.045701  6.278895e-05  4.883371e-03  2.501438e-04  4.228549e-03   \n",
              "73768  0.094600  6.993089e-04  1.667992e-02  2.903034e-03  1.679722e-02   \n",
              "73769  0.007894  6.462674e-06  1.000149e-03  3.341530e-05  6.890298e-04   \n",
              "73770  0.263234  6.779019e-04  4.217507e-02  1.621079e-03  4.427062e-02   \n",
              "73771  0.000194  6.048170e-10  9.308638e-06  2.733540e-09  3.029993e-06   \n",
              "\n",
              "       identity_hate  \n",
              "0       3.321489e-02  \n",
              "1       9.799035e-11  \n",
              "2       3.044776e-01  \n",
              "3       1.739258e-03  \n",
              "4       2.437045e-07  \n",
              "...              ...  \n",
              "73767   8.493444e-04  \n",
              "73768   5.211209e-03  \n",
              "73769   1.150988e-04  \n",
              "73770   5.180608e-03  \n",
              "73771   6.481225e-08  \n",
              "\n",
              "[73772 rows x 6 columns]"
            ]
          },
          "execution_count": 155,
          "metadata": {},
          "output_type": "execute_result"
        },
        {
          "name": "stdout",
          "output_type": "stream",
          "text": [
            "time: 32.9 ms (started: 2023-02-20 01:42:32 +03:00)\n"
          ]
        }
      ],
      "source": [
        "submission_df = pd.DataFrame(columns=labels)\n",
        "# submission_df['id'] = test_df['id'].values \n",
        "submission_df[labels] = y_pred \n",
        "submission_df"
      ]
    },
    {
      "cell_type": "code",
      "execution_count": null,
      "metadata": {
        "id": "D-9Qyh-RxSf2",
        "outputId": "7527c9f1-dfa3-4f51-bf46-2ae4e34de88d"
      },
      "outputs": [
        {
          "data": {
            "text/plain": [
              "{'validation_data': None,\n",
              " 'model': <keras.engine.sequential.Sequential at 0x7f9cc2aa3580>,\n",
              " '_chief_worker_only': None,\n",
              " '_supports_tf_logs': False,\n",
              " 'history': {'loss': [0.10264328122138977,\n",
              "   0.06062068045139313,\n",
              "   0.054146114736795425,\n",
              "   0.04837951064109802,\n",
              "   0.04298679530620575],\n",
              "  'accuracy': [0.8238933682441711,\n",
              "   0.984480619430542,\n",
              "   0.991913914680481,\n",
              "   0.9944584369659424,\n",
              "   0.9936794638633728],\n",
              "  'val_loss': [0.06569772958755493,\n",
              "   0.06324321776628494,\n",
              "   0.06521186977624893,\n",
              "   0.0678744837641716,\n",
              "   0.07103971391916275],\n",
              "  'val_accuracy': [0.9955267906188965,\n",
              "   0.9955267906188965,\n",
              "   0.9955267906188965,\n",
              "   0.9955267906188965,\n",
              "   0.9955267906188965]},\n",
              " 'params': {'verbose': 2, 'epochs': 8, 'steps': 527},\n",
              " 'epoch': [0, 1, 2, 3, 4]}"
            ]
          },
          "execution_count": 150,
          "metadata": {},
          "output_type": "execute_result"
        },
        {
          "name": "stdout",
          "output_type": "stream",
          "text": [
            "time: 5.93 ms (started: 2023-02-20 01:39:54 +03:00)\n"
          ]
        }
      ],
      "source": [
        "hist.__dict__"
      ]
    },
    {
      "cell_type": "code",
      "execution_count": null,
      "metadata": {
        "id": "NDdZKXHYxSf2",
        "outputId": "cc332ede-3d07-4777-eb90-f1ca3c9e7e6c"
      },
      "outputs": [
        {
          "data": {
            "image/png": "[encoded data removed]",
            "text/plain": [
              "<Figure size 640x480 with 1 Axes>"
            ]
          },
          "metadata": {},
          "output_type": "display_data"
        },
        {
          "name": "stdout",
          "output_type": "stream",
          "text": [
            "time: 258 ms (started: 2023-02-20 01:50:17 +03:00)\n"
          ]
        }
      ],
      "source": [
        "plt.figure()\n",
        "plt.plot(hist.history['accuracy'], lw=2.0, color='b', label='train')\n",
        "plt.plot(hist.history['val_accuracy'], lw=2.0, color='r', label='val')\n",
        "plt.title('CNN sentiment')\n",
        "plt.xlabel('Epochs')\n",
        "plt.ylabel('Accuracy')\n",
        "plt.legend(loc='upper left')\n",
        "plt.show()"
      ]
    },
    {
      "cell_type": "markdown",
      "metadata": {
        "id": "uTM9cMjTxSf2"
      },
      "source": [
        "## USE TFIDF vectorize for predicting scores"
      ]
    },
    {
      "cell_type": "code",
      "execution_count": null,
      "metadata": {
        "id": "in0WSbtcxSf3",
        "outputId": "e53f44ab-51f7-4b87-f871-bbd97480296f"
      },
      "outputs": [
        {
          "name": "stdout",
          "output_type": "stream",
          "text": [
            "time: 14.7 s (started: 2023-02-21 00:42:01 +03:00)\n"
          ]
        }
      ],
      "source": [
        "X_train, X_test, y_train, y_test = train_test_split(df['comment_text'].values, df['score'].values, test_size=0.33, random_state=42)\n",
        "\n",
        "from tensorflow.keras.preprocessing.text import Tokenizer\n",
        "from tensorflow.keras import layers\n",
        "import tensorflow as tf\n",
        "\n",
        "oov_token = '<UNK>'\n",
        "\n",
        "vocab_size = 50\n",
        "\n",
        "tfidf_vectorizer = tf.keras.layers.TextVectorization(\n",
        "    max_tokens=vocab_size,\n",
        "    output_mode='tf-idf',\n",
        "    ngrams=(1, 2)\n",
        ")\n",
        "\n",
        "tfidf_vectorizer.adapt(X_train)\n"
      ]
    },
    {
      "cell_type": "code",
      "execution_count": null,
      "metadata": {
        "id": "6YSsC8N7xSf3",
        "outputId": "4b232197-bcdf-4d0c-a5b6-4b0504940ecb"
      },
      "outputs": [
        {
          "name": "stdout",
          "output_type": "stream",
          "text": [
            "tf.Tensor(\n",
            "[[17.82208  0.       0.       0.       0.       0.       0.       0.\n",
            "   0.       0.       0.       0.       0.       0.       0.       0.\n",
            "   0.       0.       0.       0.       0.       0.       0.       0.\n",
            "   0.       0.       0.       0.       0.       0.       0.       0.\n",
            "   0.       0.       0.       0.       0.       0.       0.       0.\n",
            "   0.       0.       0.       0.       0.       0.       0.       0.\n",
            "   0.       0.     ]], shape=(1, 50), dtype=float32)\n",
            "time: 21.5 ms (started: 2023-02-21 00:42:17 +03:00)\n"
          ]
        }
      ],
      "source": [
        "tfidf_vectorizer.get_vocabulary()[:1]\n",
        "tfidf_vectorizer.vocabulary_size()\n",
        "print(tfidf_vectorizer(['Hi how are you']))"
      ]
    },
    {
      "cell_type": "code",
      "execution_count": null,
      "metadata": {
        "id": "LZSy-dskxSf4",
        "outputId": "c401da95-690f-46a5-cdf2-5dbbec10ae89"
      },
      "outputs": [
        {
          "name": "stdout",
          "output_type": "stream",
          "text": [
            "1/1 [==============================] - 0s 31ms/step\n"
          ]
        },
        {
          "data": {
            "text/plain": [
              "array([[0.04316227]], dtype=float32)"
            ]
          },
          "execution_count": 60,
          "metadata": {},
          "output_type": "execute_result"
        },
        {
          "name": "stdout",
          "output_type": "stream",
          "text": [
            "time: 83.6 ms (started: 2023-02-21 00:34:58 +03:00)\n"
          ]
        }
      ],
      "source": [
        "def preprocessing(comment):\n",
        "    df_test = pd.DataFrame(comment, columns=['comment_test'])\n",
        "    df_test['comment_test'] = df_test['comment_test'].apply(lambda x:normalization_text(x))\n",
        "    comment = df_test['comment_test'].tolist()\n",
        "    return comment\n",
        "comment = ['I hate you fucking asshole']\n",
        "test = preprocessing(comment)\n",
        "y_pred = model.predict(test)\n",
        "y_pred"
      ]
    },
    {
      "cell_type": "code",
      "execution_count": null,
      "metadata": {
        "id": "ETkKZofdxSf4",
        "outputId": "83bd12f0-a600-49d3-cc2b-62ef80acc781"
      },
      "outputs": [
        {
          "name": "stdout",
          "output_type": "stream",
          "text": [
            "training CNN ...\n",
            "Model: \"sequential_9\"\n",
            "_________________________________________________________________\n",
            " Layer (type)                Output Shape              Param #   \n",
            "=================================================================\n",
            " text_vectorization_6 (TextV  (None, 50)               1         \n",
            " ectorization)                                                   \n",
            "                                                                 \n",
            " embedding_4 (Embedding)     (None, 50, 64)            3200      \n",
            "                                                                 \n",
            " conv1d_8 (Conv1D)           (None, 50, 64)            12352     \n",
            "                                                                 \n",
            " max_pooling1d_4 (MaxPooling  (None, 25, 64)           0         \n",
            " 1D)                                                             \n",
            "                                                                 \n",
            " conv1d_9 (Conv1D)           (None, 25, 64)            12352     \n",
            "                                                                 \n",
            " global_max_pooling1d_4 (Glo  (None, 64)               0         \n",
            " balMaxPooling1D)                                                \n",
            "                                                                 \n",
            " dropout_14 (Dropout)        (None, 64)                0         \n",
            "                                                                 \n",
            " dense_23 (Dense)            (None, 32)                2080      \n",
            "                                                                 \n",
            " dense_24 (Dense)            (None, 1)                 33        \n",
            "                                                                 \n",
            "=================================================================\n",
            "Total params: 30,018\n",
            "Trainable params: 30,017\n",
            "Non-trainable params: 1\n",
            "_________________________________________________________________\n",
            "time: 157 ms (started: 2023-02-21 00:42:25 +03:00)\n"
          ]
        }
      ],
      "source": [
        "from keras.layers import Embedding, Conv1D, MaxPooling1D, GlobalMaxPooling1D\n",
        "from keras import regularizers\n",
        "from keras.layers import Dense, Activation, Dropout, Flatten\n",
        "from keras import optimizers\n",
        "\n",
        "\n",
        "batch_size = 512\n",
        "num_epochs = 8 \n",
        "\n",
        "#model parameters\n",
        "num_filters = 64\n",
        "\n",
        "weight_decay = 1e-4\n",
        "\n",
        "kernel_size = 3\n",
        "#CNN architecture\n",
        "print(\"training CNN ...\")\n",
        "model = Sequential()\n",
        "model.add(tfidf_vectorizer)\n",
        "model.add(Embedding(vocab_size, 64, input_length=50))\n",
        "model.add(Conv1D(num_filters, kernel_size, activation='relu', padding='same', kernel_initializer='normal'))  # kernel_initializer='normal'\n",
        "model.add(MaxPooling1D(2))\n",
        "model.add(Conv1D(num_filters, kernel_size, activation='relu', padding='same', kernel_initializer='normal'))  # kernel_initializer='normal'\n",
        "model.add(GlobalMaxPooling1D())\n",
        "model.add(Dropout(0.5))\n",
        "model.add(Dense(32, activation='relu', kernel_regularizer=regularizers.l2(weight_decay))) # kernel_initializer='normal'\n",
        "model.add(Dense(1, kernel_initializer='normal'))  #multi-label (k-hot encoding)\n",
        "\n",
        "adam = optimizers.Adam(lr=0.001, beta_1=0.9, beta_2=0.999, epsilon=1e-08, decay=0.0)\n",
        "model.compile(loss='mean_squared_error', optimizer=adam, metrics=[tensorflow.keras.metrics.RootMeanSquaredError(name='rmse')])\n",
        "model.summary()"
      ]
    },
    {
      "cell_type": "code",
      "source": [],
      "metadata": {
        "id": "8eU3W9FhaQKN"
      },
      "execution_count": null,
      "outputs": []
    }
  ],
  "metadata": {
    "kernelspec": {
      "display_name": "NL",
      "language": "python",
      "name": "python3"
    },
    "language_info": {
      "codemirror_mode": {
        "name": "ipython",
        "version": 3
      },
      "file_extension": ".py",
      "mimetype": "text/x-python",
      "name": "python",
      "nbconvert_exporter": "python",
      "pygments_lexer": "ipython3",
      "version": "3.10.8"
    },
    "vscode": {
      "interpreter": {
        "hash": "3465794b5939357cdf8cad3124839fce08b49d14c04b7fc9651532fdea055071"
      }
    },
    "colab": {
      "provenance": [],
      "include_colab_link": true
    }
  },
  "nbformat": 4,
  "nbformat_minor": 0
}
